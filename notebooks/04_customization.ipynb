{
 "cells": [
  {
   "cell_type": "code",
   "execution_count": 1,
   "metadata": {},
   "outputs": [],
   "source": [
    "import warnings\n",
    "\n",
    "warnings.filterwarnings(\"ignore\")"
   ]
  },
  {
   "cell_type": "markdown",
   "metadata": {},
   "source": [
    "# Customizing and creating sktime transformers and models for your own needs\n",
    "\n",
    "## Why customizing?\n",
    "\n",
    "### Industry\n",
    "\n",
    "\n",
    "\n",
    "- Frequently, specific needs appear in the industry. A problem appears, and technical proposals are made to solve the issue (preprocessing steps, models, etc.)\n",
    "- The data scientists need to be able to test these hypothesis - how to do it without needing to code everything from scratch?\n",
    "- Sktime pipelines provide a safe way to benchmark preprocessing steps, avoiding data leakage and other common pitfalls.\n",
    "\n",
    "### Research\n",
    "\n",
    "Sktime is not only a library for industry, but also for research.\n",
    "When developing a new method, the researcher is usually interest in\n",
    "\n",
    "* Ability to test new ideas quickly\n",
    "* Reproducibility of the method by new users and peers\n",
    "* Comparison with other models and ideas\n",
    "\n",
    "## Why customizing with sktime?\n",
    "\n",
    "**Benefits**: productivity, scalability, reproducibility\n",
    "\n",
    "* Out-of-the-box compatibility with the sktime ecosystem and the hundred models available\n",
    "* You implement one model -> get multivariate forecasting, tuning strategies, cross validation implementation,  for free\n",
    "* For free: vectorization for multivariate forecasting, tuning strategies, cross validation implementation, etc\n",
    "\n",
    "If a sktime estimator is developed, it can be plugged-in into the sktime ecosystem, and be compared with other models in a fair way.\n",
    "\n",
    "\n",
    "<img src=\"img/interfaces.jpg\" alt=\"sktime ecosystem\" width=\"800\" style=\"display: block; margin-left: auto; margin-right: auto;\">"
   ]
  },
  {
   "cell_type": "markdown",
   "metadata": {},
   "source": []
  }
 ],
 "metadata": {
  "kernelspec": {
   "display_name": ".venv",
   "language": "python",
   "name": "python3"
  },
  "language_info": {
   "codemirror_mode": {
    "name": "ipython",
    "version": 3
   },
   "file_extension": ".py",
   "mimetype": "text/x-python",
   "name": "python",
   "nbconvert_exporter": "python",
   "pygments_lexer": "ipython3",
   "version": "3.11.8"
  }
 },
 "nbformat": 4,
 "nbformat_minor": 2
}
