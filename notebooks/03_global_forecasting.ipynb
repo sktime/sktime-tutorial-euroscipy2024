{
 "cells": [
  {
   "cell_type": "markdown",
   "metadata": {},
   "source": [
    "# Global Forecasting and Foundation Models"
   ]
  },
  {
   "cell_type": "markdown",
   "metadata": {},
   "source": [
    "### Overview of this notebook\n",
    "\n",
    "* Global Forecasting\n",
    "    * Introduction\n",
    "    * Example with/without exogenous data\n",
    "    * Global Forecasters in sktime\n",
    "* Foundation Models\n",
    "    * Introduction\n",
    "    * Examples\n",
    "    * Training Methods\n",
    "    * License Management\n",
    "    * Foundation Models for Global Forecasting\n",
    "* Summary\n",
    "* Credits"
   ]
  },
  {
   "cell_type": "code",
   "execution_count": 1,
   "metadata": {},
   "outputs": [],
   "source": [
    "import warnings\n",
    "\n",
    "warnings.filterwarnings(\"ignore\")"
   ]
  },
  {
   "cell_type": "markdown",
   "metadata": {},
   "source": [
    "## Global Forecasting"
   ]
  },
  {
   "cell_type": "markdown",
   "metadata": {},
   "source": [
    "global forecasting = (pre-)training model on examples, to later forecast\n",
    "\n",
    "Common examples:\n",
    "\n",
    "* transformer based deep learning forecasters, pre-training and fine-tuning\n",
    "* reduction forecasters with sklearn regressors trained on larger sample"
   ]
  },
  {
   "cell_type": "markdown",
   "metadata": {},
   "source": [
    "<img src=\"./img/global-fcst.png\" alt=\"Global Forecast\" style=\"width: 100%; max-width: 600px;\">"
   ]
  },
  {
   "cell_type": "markdown",
   "metadata": {},
   "source": [
    "Mathematically, vanilla case:\n",
    "\n",
    "   - train on dataset containing $n$ time series $y_1(t), y_2(t), \\dots, y_N(t)$\n",
    "   - forecast on another time series $y^*(t)$\n",
    "       - given $y^*(t_1), \\dots, y^*(t_T),$ produce forecasts $y^*(t_T + h_1), \\dots, y^*(t_T + h_H)$"
   ]
  },
  {
   "cell_type": "markdown",
   "metadata": {},
   "source": [
    "basic `sktime` interface for global forecasting:\n",
    "\n",
    "```python\n",
    "model.fit(y=y_train, fh=fh)\n",
    "model.predict(y=y_deploy)  # new time series passed in predict!\n",
    "```"
   ]
  },
  {
   "cell_type": "markdown",
   "metadata": {},
   "source": [
    "To search for global forecasters, use the `capability:global_forecasting` tag:"
   ]
  },
  {
   "cell_type": "code",
   "execution_count": 2,
   "metadata": {},
   "outputs": [
    {
     "data": {
      "text/plain": [
       "True"
      ]
     },
     "execution_count": 2,
     "metadata": {},
     "output_type": "execute_result"
    }
   ],
   "source": [
    "from sktime.forecasting.pytorchforecasting import PytorchForecastingDeepAR\n",
    "\n",
    "PytorchForecastingDeepAR().get_tag(\n",
    "    \"capability:global_forecasting\"\n",
    ")  # should return True"
   ]
  },
  {
   "cell_type": "markdown",
   "metadata": {},
   "source": [
    "### SKU future volume analysis and prediction"
   ]
  },
  {
   "cell_type": "markdown",
   "metadata": {},
   "source": [
    "The example is from the [Stallion kaggle competition](https://www.kaggle.com/datasets/utathya/future-volume-prediction).\n",
    "\n",
    "- Stallion & Co., a major beer company, sees significant sales (10% of global sales) in Beeristan.\n",
    "- The company needs accurate demand forecasts for its various products at the SKU level for each wholesaler to optimize production and distribution.\n",
    "- Currently, demand is estimated by sales executives based on experience and intuition.\n",
    "- Joshua, the new Head of S&OP, recognizes the potential for a more data-driven approach to demand forecasting.\n",
    "- He seeks the help of a top data scientist to improve the accuracy of these forecasts."
   ]
  },
  {
   "cell_type": "markdown",
   "metadata": {},
   "source": [
    "We use a simplified data structure to showcase the global forecasting ability with sktime"
   ]
  },
  {
   "cell_type": "code",
   "execution_count": 3,
   "metadata": {},
   "outputs": [],
   "source": [
    "from utils import load_stallion\n",
    "\n",
    "X, y = load_stallion()"
   ]
  },
  {
   "cell_type": "markdown",
   "metadata": {},
   "source": [
    "#### Global Forecasting without exogeneous data\n",
    "\n",
    "First, let's try to fit and predict without exogeneous data"
   ]
  },
  {
   "cell_type": "code",
   "execution_count": 4,
   "metadata": {},
   "outputs": [],
   "source": [
    "from sktime.forecasting.base import ForecastingHorizon\n",
    "\n",
    "fh = ForecastingHorizon([1, 2, 3, 4, 5, 6, 7, 8, 9], is_relative=True, freq=\"MS\")\n",
    "\n",
    "from sklearn.model_selection import train_test_split\n",
    "\n",
    "y_train, y_test = train_test_split(y, test_size=0.1, train_size=0.9, shuffle=False)\n",
    "y_true = y_test.groupby(level=[0,1]).apply(lambda x: x.droplevel([0,1]).iloc[-max(fh):])\n",
    "y_test = y_test.groupby(level=[0,1]).apply(lambda x: x.droplevel([0,1]).iloc[:-max(fh)])"
   ]
  },
  {
   "cell_type": "markdown",
   "metadata": {},
   "source": [
    "`y_train` is the series we want to fit on which contains the first 90% of the time series instances."
   ]
  },
  {
   "cell_type": "code",
   "execution_count": 5,
   "metadata": {},
   "outputs": [
    {
     "data": {
      "text/html": [
       "<div>\n",
       "<style scoped>\n",
       "    .dataframe tbody tr th:only-of-type {\n",
       "        vertical-align: middle;\n",
       "    }\n",
       "\n",
       "    .dataframe tbody tr th {\n",
       "        vertical-align: top;\n",
       "    }\n",
       "\n",
       "    .dataframe thead th {\n",
       "        text-align: right;\n",
       "    }\n",
       "</style>\n",
       "<table border=\"1\" class=\"dataframe\">\n",
       "  <thead>\n",
       "    <tr style=\"text-align: right;\">\n",
       "      <th></th>\n",
       "      <th></th>\n",
       "      <th></th>\n",
       "      <th>volume</th>\n",
       "    </tr>\n",
       "    <tr>\n",
       "      <th>agency</th>\n",
       "      <th>sku</th>\n",
       "      <th>date</th>\n",
       "      <th></th>\n",
       "    </tr>\n",
       "  </thead>\n",
       "  <tbody>\n",
       "    <tr>\n",
       "      <th rowspan=\"5\" valign=\"top\">Agency_01</th>\n",
       "      <th rowspan=\"5\" valign=\"top\">SKU_01</th>\n",
       "      <th>2013-01-01</th>\n",
       "      <td>80.67600</td>\n",
       "    </tr>\n",
       "    <tr>\n",
       "      <th>2013-02-01</th>\n",
       "      <td>98.06400</td>\n",
       "    </tr>\n",
       "    <tr>\n",
       "      <th>2013-03-01</th>\n",
       "      <td>133.70400</td>\n",
       "    </tr>\n",
       "    <tr>\n",
       "      <th>2013-04-01</th>\n",
       "      <td>147.31200</td>\n",
       "    </tr>\n",
       "    <tr>\n",
       "      <th>2013-05-01</th>\n",
       "      <td>175.60800</td>\n",
       "    </tr>\n",
       "    <tr>\n",
       "      <th>...</th>\n",
       "      <th>...</th>\n",
       "      <th>...</th>\n",
       "      <td>...</td>\n",
       "    </tr>\n",
       "    <tr>\n",
       "      <th rowspan=\"5\" valign=\"top\">Agency_55</th>\n",
       "      <th rowspan=\"5\" valign=\"top\">SKU_05</th>\n",
       "      <th>2017-08-01</th>\n",
       "      <td>1058.95050</td>\n",
       "    </tr>\n",
       "    <tr>\n",
       "      <th>2017-09-01</th>\n",
       "      <td>909.68025</td>\n",
       "    </tr>\n",
       "    <tr>\n",
       "      <th>2017-10-01</th>\n",
       "      <td>1156.84560</td>\n",
       "    </tr>\n",
       "    <tr>\n",
       "      <th>2017-11-01</th>\n",
       "      <td>902.71500</td>\n",
       "    </tr>\n",
       "    <tr>\n",
       "      <th>2017-12-01</th>\n",
       "      <td>1202.59800</td>\n",
       "    </tr>\n",
       "  </tbody>\n",
       "</table>\n",
       "<p>18900 rows × 1 columns</p>\n",
       "</div>"
      ],
      "text/plain": [
       "                                 volume\n",
       "agency    sku    date                  \n",
       "Agency_01 SKU_01 2013-01-01    80.67600\n",
       "                 2013-02-01    98.06400\n",
       "                 2013-03-01   133.70400\n",
       "                 2013-04-01   147.31200\n",
       "                 2013-05-01   175.60800\n",
       "...                                 ...\n",
       "Agency_55 SKU_05 2017-08-01  1058.95050\n",
       "                 2017-09-01   909.68025\n",
       "                 2017-10-01  1156.84560\n",
       "                 2017-11-01   902.71500\n",
       "                 2017-12-01  1202.59800\n",
       "\n",
       "[18900 rows x 1 columns]"
      ]
     },
     "execution_count": 5,
     "metadata": {},
     "output_type": "execute_result"
    }
   ],
   "source": [
    "y_train"
   ]
  },
  {
   "cell_type": "markdown",
   "metadata": {},
   "source": [
    "`y_test` is the series we want to predict on which contains the last 10% of the time series instances."
   ]
  },
  {
   "cell_type": "code",
   "execution_count": 6,
   "metadata": {},
   "outputs": [
    {
     "data": {
      "text/html": [
       "<div>\n",
       "<style scoped>\n",
       "    .dataframe tbody tr th:only-of-type {\n",
       "        vertical-align: middle;\n",
       "    }\n",
       "\n",
       "    .dataframe tbody tr th {\n",
       "        vertical-align: top;\n",
       "    }\n",
       "\n",
       "    .dataframe thead th {\n",
       "        text-align: right;\n",
       "    }\n",
       "</style>\n",
       "<table border=\"1\" class=\"dataframe\">\n",
       "  <thead>\n",
       "    <tr style=\"text-align: right;\">\n",
       "      <th></th>\n",
       "      <th></th>\n",
       "      <th></th>\n",
       "      <th>volume</th>\n",
       "    </tr>\n",
       "    <tr>\n",
       "      <th>agency</th>\n",
       "      <th>sku</th>\n",
       "      <th>date</th>\n",
       "      <th></th>\n",
       "    </tr>\n",
       "  </thead>\n",
       "  <tbody>\n",
       "    <tr>\n",
       "      <th rowspan=\"5\" valign=\"top\">Agency_56</th>\n",
       "      <th rowspan=\"5\" valign=\"top\">SKU_01</th>\n",
       "      <th>2013-01-01</th>\n",
       "      <td>2999.160</td>\n",
       "    </tr>\n",
       "    <tr>\n",
       "      <th>2013-02-01</th>\n",
       "      <td>3541.212</td>\n",
       "    </tr>\n",
       "    <tr>\n",
       "      <th>2013-03-01</th>\n",
       "      <td>4057.992</td>\n",
       "    </tr>\n",
       "    <tr>\n",
       "      <th>2013-04-01</th>\n",
       "      <td>4152.276</td>\n",
       "    </tr>\n",
       "    <tr>\n",
       "      <th>2013-05-01</th>\n",
       "      <td>4885.488</td>\n",
       "    </tr>\n",
       "    <tr>\n",
       "      <th>...</th>\n",
       "      <th>...</th>\n",
       "      <th>...</th>\n",
       "      <td>...</td>\n",
       "    </tr>\n",
       "    <tr>\n",
       "      <th rowspan=\"5\" valign=\"top\">Agency_60</th>\n",
       "      <th rowspan=\"5\" valign=\"top\">SKU_23</th>\n",
       "      <th>2016-11-01</th>\n",
       "      <td>0.360</td>\n",
       "    </tr>\n",
       "    <tr>\n",
       "      <th>2016-12-01</th>\n",
       "      <td>3.510</td>\n",
       "    </tr>\n",
       "    <tr>\n",
       "      <th>2017-01-01</th>\n",
       "      <td>2.160</td>\n",
       "    </tr>\n",
       "    <tr>\n",
       "      <th>2017-02-01</th>\n",
       "      <td>2.520</td>\n",
       "    </tr>\n",
       "    <tr>\n",
       "      <th>2017-03-01</th>\n",
       "      <td>1.710</td>\n",
       "    </tr>\n",
       "  </tbody>\n",
       "</table>\n",
       "<p>1785 rows × 1 columns</p>\n",
       "</div>"
      ],
      "text/plain": [
       "                               volume\n",
       "agency    sku    date                \n",
       "Agency_56 SKU_01 2013-01-01  2999.160\n",
       "                 2013-02-01  3541.212\n",
       "                 2013-03-01  4057.992\n",
       "                 2013-04-01  4152.276\n",
       "                 2013-05-01  4885.488\n",
       "...                               ...\n",
       "Agency_60 SKU_23 2016-11-01     0.360\n",
       "                 2016-12-01     3.510\n",
       "                 2017-01-01     2.160\n",
       "                 2017-02-01     2.520\n",
       "                 2017-03-01     1.710\n",
       "\n",
       "[1785 rows x 1 columns]"
      ]
     },
     "execution_count": 6,
     "metadata": {},
     "output_type": "execute_result"
    }
   ],
   "source": [
    "y_test"
   ]
  },
  {
   "cell_type": "markdown",
   "metadata": {
    "notebookRunGroups": {
     "groupValue": "2"
    }
   },
   "source": [
    "You can see that `y_train` and `y_test` are different on hierarchical level which indicates that they come from different instances.\n",
    "\n",
    "We can initialize a global forecaster to fit on `y_train` and predict on `y_test`."
   ]
  },
  {
   "cell_type": "code",
   "execution_count": 7,
   "metadata": {},
   "outputs": [],
   "source": [
    "from sktime.forecasting.pytorchforecasting import PytorchForecastingNBeats\n",
    "\n",
    "model = PytorchForecastingNBeats(\n",
    "    trainer_params={\n",
    "        \"max_epochs\": 10,\n",
    "    },\n",
    ")"
   ]
  },
  {
   "cell_type": "code",
   "execution_count": 8,
   "metadata": {},
   "outputs": [
    {
     "name": "stderr",
     "output_type": "stream",
     "text": [
      "GPU available: False, used: False\n",
      "TPU available: False, using: 0 TPU cores\n",
      "HPU available: False, using: 0 HPUs\n",
      "2024-08-25 16:24:17.665653: W tensorflow/stream_executor/platform/default/dso_loader.cc:64] Could not load dynamic library 'libcudart.so.11.0'; dlerror: libcudart.so.11.0: cannot open shared object file: No such file or directory\n",
      "2024-08-25 16:24:17.665694: I tensorflow/stream_executor/cuda/cudart_stub.cc:29] Ignore above cudart dlerror if you do not have a GPU set up on your machine.\n",
      "\n",
      "  | Name            | Type       | Params | Mode \n",
      "-------------------------------------------------------\n",
      "0 | loss            | MASE       | 0      | train\n",
      "1 | logging_metrics | ModuleList | 0      | train\n",
      "2 | net_blocks      | ModuleList | 1.6 M  | train\n",
      "-------------------------------------------------------\n",
      "1.6 M     Trainable params\n",
      "0         Non-trainable params\n",
      "1.6 M     Total params\n",
      "6.588     Total estimated model params size (MB)\n",
      "86        Modules in train mode\n",
      "0         Modules in eval mode\n"
     ]
    },
    {
     "data": {
      "application/vnd.jupyter.widget-view+json": {
       "model_id": "0974afe36e0b473ab0aca2c93d77b64f",
       "version_major": 2,
       "version_minor": 0
      },
      "text/plain": [
       "Sanity Checking: |          | 0/? [00:00<?, ?it/s]"
      ]
     },
     "metadata": {},
     "output_type": "display_data"
    },
    {
     "data": {
      "application/vnd.jupyter.widget-view+json": {
       "model_id": "88d338c463ed44e5ac468a5b8e47ea92",
       "version_major": 2,
       "version_minor": 0
      },
      "text/plain": [
       "Training: |          | 0/? [00:00<?, ?it/s]"
      ]
     },
     "metadata": {},
     "output_type": "display_data"
    },
    {
     "data": {
      "application/vnd.jupyter.widget-view+json": {
       "model_id": "40d9eecaf59c44a39551362b0284b3a9",
       "version_major": 2,
       "version_minor": 0
      },
      "text/plain": [
       "Validation: |          | 0/? [00:00<?, ?it/s]"
      ]
     },
     "metadata": {},
     "output_type": "display_data"
    },
    {
     "data": {
      "application/vnd.jupyter.widget-view+json": {
       "model_id": "a1b5038498714b1ba3986b73e05c424a",
       "version_major": 2,
       "version_minor": 0
      },
      "text/plain": [
       "Validation: |          | 0/? [00:00<?, ?it/s]"
      ]
     },
     "metadata": {},
     "output_type": "display_data"
    },
    {
     "data": {
      "application/vnd.jupyter.widget-view+json": {
       "model_id": "448335cfcf584497a1d8287ac6a2367c",
       "version_major": 2,
       "version_minor": 0
      },
      "text/plain": [
       "Validation: |          | 0/? [00:00<?, ?it/s]"
      ]
     },
     "metadata": {},
     "output_type": "display_data"
    },
    {
     "data": {
      "application/vnd.jupyter.widget-view+json": {
       "model_id": "56912880ba4d46fe82b09f86f49dd054",
       "version_major": 2,
       "version_minor": 0
      },
      "text/plain": [
       "Validation: |          | 0/? [00:00<?, ?it/s]"
      ]
     },
     "metadata": {},
     "output_type": "display_data"
    },
    {
     "data": {
      "application/vnd.jupyter.widget-view+json": {
       "model_id": "2dafafa8371545d4a30e948d038ee0e7",
       "version_major": 2,
       "version_minor": 0
      },
      "text/plain": [
       "Validation: |          | 0/? [00:00<?, ?it/s]"
      ]
     },
     "metadata": {},
     "output_type": "display_data"
    },
    {
     "data": {
      "application/vnd.jupyter.widget-view+json": {
       "model_id": "bb0937bf7e5041b3b76fc95ab96f4709",
       "version_major": 2,
       "version_minor": 0
      },
      "text/plain": [
       "Validation: |          | 0/? [00:00<?, ?it/s]"
      ]
     },
     "metadata": {},
     "output_type": "display_data"
    },
    {
     "data": {
      "application/vnd.jupyter.widget-view+json": {
       "model_id": "649698877f964f06adb97af1afeb1093",
       "version_major": 2,
       "version_minor": 0
      },
      "text/plain": [
       "Validation: |          | 0/? [00:00<?, ?it/s]"
      ]
     },
     "metadata": {},
     "output_type": "display_data"
    },
    {
     "data": {
      "application/vnd.jupyter.widget-view+json": {
       "model_id": "66fbc99a3ab448d88aeab269b96674d9",
       "version_major": 2,
       "version_minor": 0
      },
      "text/plain": [
       "Validation: |          | 0/? [00:00<?, ?it/s]"
      ]
     },
     "metadata": {},
     "output_type": "display_data"
    },
    {
     "data": {
      "application/vnd.jupyter.widget-view+json": {
       "model_id": "13768ef7037a4adea3b5470947093c7b",
       "version_major": 2,
       "version_minor": 0
      },
      "text/plain": [
       "Validation: |          | 0/? [00:00<?, ?it/s]"
      ]
     },
     "metadata": {},
     "output_type": "display_data"
    },
    {
     "data": {
      "application/vnd.jupyter.widget-view+json": {
       "model_id": "66fc0028edf44f2fa0487184bf04690b",
       "version_major": 2,
       "version_minor": 0
      },
      "text/plain": [
       "Validation: |          | 0/? [00:00<?, ?it/s]"
      ]
     },
     "metadata": {},
     "output_type": "display_data"
    },
    {
     "name": "stderr",
     "output_type": "stream",
     "text": [
      "`Trainer.fit` stopped: `max_epochs=10` reached.\n"
     ]
    },
    {
     "data": {
      "text/html": [
       "<style>#sk-77ffdd6e-c42e-4e41-8ac9-d302f3c11f90 {\n",
       "    /* Definition of color scheme common for light and dark mode */\n",
       "    --sklearn-color-text: black;\n",
       "    --sklearn-color-line: gray;\n",
       "    /* Definition of color scheme for objects */\n",
       "    --sklearn-color-level-0: #fff5e6;\n",
       "    --sklearn-color-level-1: #f6e4d2;\n",
       "    --sklearn-color-level-2: #ffe0b3;\n",
       "    --sklearn-color-level-3: chocolate;\n",
       "\n",
       "    /* Specific color for light theme */\n",
       "    --sklearn-color-text-on-default-background: var(--theme-code-foreground, var(--jp-content-font-color1, black));\n",
       "    --sklearn-color-background: var(--theme-background, var(--jp-layout-color0, white));\n",
       "    --sklearn-color-border-box: var(--theme-code-foreground, var(--jp-content-font-color1, black));\n",
       "    --sklearn-color-icon: #696969;\n",
       "\n",
       "    @media (prefers-color-scheme: dark) {\n",
       "      /* Redefinition of color scheme for dark theme */\n",
       "      --sklearn-color-text-on-default-background: var(--theme-code-foreground, var(--jp-content-font-color1, white));\n",
       "      --sklearn-color-background: var(--theme-background, var(--jp-layout-color0, #111));\n",
       "      --sklearn-color-border-box: var(--theme-code-foreground, var(--jp-content-font-color1, white));\n",
       "      --sklearn-color-icon: #878787;\n",
       "    }\n",
       "  }\n",
       "\n",
       "  #sk-77ffdd6e-c42e-4e41-8ac9-d302f3c11f90 {\n",
       "    color: var(--sklearn-color-text);\n",
       "  }\n",
       "\n",
       "  #sk-77ffdd6e-c42e-4e41-8ac9-d302f3c11f90 pre {\n",
       "    padding: 0;\n",
       "  }\n",
       "\n",
       "  #sk-77ffdd6e-c42e-4e41-8ac9-d302f3c11f90 input.sk-hidden--visually {\n",
       "    border: 0;\n",
       "    clip: rect(1px 1px 1px 1px);\n",
       "    clip: rect(1px, 1px, 1px, 1px);\n",
       "    height: 1px;\n",
       "    margin: -1px;\n",
       "    overflow: hidden;\n",
       "    padding: 0;\n",
       "    position: absolute;\n",
       "    width: 1px;\n",
       "  }\n",
       "\n",
       "  #sk-77ffdd6e-c42e-4e41-8ac9-d302f3c11f90 div.sk-dashed-wrapped {\n",
       "    border: 1px dashed var(--sklearn-color-line);\n",
       "    margin: 0 0.4em 0.5em 0.4em;\n",
       "    box-sizing: border-box;\n",
       "    padding-bottom: 0.4em;\n",
       "    background-color: var(--sklearn-color-background);\n",
       "  }\n",
       "\n",
       "  #sk-77ffdd6e-c42e-4e41-8ac9-d302f3c11f90 div.sk-container {\n",
       "    /* jupyter's `normalize.less` sets `[hidden] { display: none; }`\n",
       "       but bootstrap.min.css set `[hidden] { display: none !important; }`\n",
       "       so we also need the `!important` here to be able to override the\n",
       "       default hidden behavior on the sphinx rendered scikit-learn.org.\n",
       "       See: https://github.com/scikit-learn/scikit-learn/issues/21755 */\n",
       "    display: inline-block !important;\n",
       "    position: relative;\n",
       "  }\n",
       "\n",
       "  #sk-77ffdd6e-c42e-4e41-8ac9-d302f3c11f90 div.sk-text-repr-fallback {\n",
       "    display: none;\n",
       "  }\n",
       "\n",
       "  div.sk-parallel-item,\n",
       "  div.sk-serial,\n",
       "  div.sk-item {\n",
       "    /* draw centered vertical line to link estimators */\n",
       "    background-image: linear-gradient(var(--sklearn-color-text-on-default-background), var(--sklearn-color-text-on-default-background));\n",
       "    background-size: 2px 100%;\n",
       "    background-repeat: no-repeat;\n",
       "    background-position: center center;\n",
       "  }\n",
       "\n",
       "  /* Parallel-specific style estimator block */\n",
       "\n",
       "  #sk-77ffdd6e-c42e-4e41-8ac9-d302f3c11f90 div.sk-parallel-item::after {\n",
       "    content: \"\";\n",
       "    width: 100%;\n",
       "    border-bottom: 2px solid var(--sklearn-color-text-on-default-background);\n",
       "    flex-grow: 1;\n",
       "  }\n",
       "\n",
       "  #sk-77ffdd6e-c42e-4e41-8ac9-d302f3c11f90 div.sk-parallel {\n",
       "    display: flex;\n",
       "    align-items: stretch;\n",
       "    justify-content: center;\n",
       "    background-color: var(--sklearn-color-background);\n",
       "    position: relative;\n",
       "  }\n",
       "\n",
       "  #sk-77ffdd6e-c42e-4e41-8ac9-d302f3c11f90 div.sk-parallel-item {\n",
       "    display: flex;\n",
       "    flex-direction: column;\n",
       "  }\n",
       "\n",
       "  #sk-77ffdd6e-c42e-4e41-8ac9-d302f3c11f90 div.sk-parallel-item:first-child::after {\n",
       "    align-self: flex-end;\n",
       "    width: 50%;\n",
       "  }\n",
       "\n",
       "  #sk-77ffdd6e-c42e-4e41-8ac9-d302f3c11f90 div.sk-parallel-item:last-child::after {\n",
       "    align-self: flex-start;\n",
       "    width: 50%;\n",
       "  }\n",
       "\n",
       "  #sk-77ffdd6e-c42e-4e41-8ac9-d302f3c11f90 div.sk-parallel-item:only-child::after {\n",
       "    width: 0;\n",
       "  }\n",
       "\n",
       "  /* Serial-specific style estimator block */\n",
       "\n",
       "  #sk-77ffdd6e-c42e-4e41-8ac9-d302f3c11f90 div.sk-serial {\n",
       "    display: flex;\n",
       "    flex-direction: column;\n",
       "    align-items: center;\n",
       "    background-color: var(--sklearn-color-background);\n",
       "    padding-right: 1em;\n",
       "    padding-left: 1em;\n",
       "  }\n",
       "\n",
       "\n",
       "  /* Toggleable style: style used for estimator/Pipeline/ColumnTransformer box that is\n",
       "  clickable and can be expanded/collapsed.\n",
       "  - Pipeline and ColumnTransformer use this feature and define the default style\n",
       "  - Estimators will overwrite some part of the style using the `sk-estimator` class\n",
       "  */\n",
       "\n",
       "  /* Pipeline and ColumnTransformer style (default) */\n",
       "\n",
       "  #sk-77ffdd6e-c42e-4e41-8ac9-d302f3c11f90 div.sk-toggleable {\n",
       "    /* Default theme specific background. It is overwritten whether we have a\n",
       "    specific estimator or a Pipeline/ColumnTransformer */\n",
       "    background-color: var(--sklearn-color-background);\n",
       "  }\n",
       "\n",
       "  /* Toggleable label */\n",
       "  #sk-77ffdd6e-c42e-4e41-8ac9-d302f3c11f90 label.sk-toggleable__label {\n",
       "    cursor: pointer;\n",
       "    display: block;\n",
       "    width: 100%;\n",
       "    margin-bottom: 0;\n",
       "    padding: 0.5em;\n",
       "    box-sizing: border-box;\n",
       "    text-align: center;\n",
       "  }\n",
       "\n",
       "  #sk-77ffdd6e-c42e-4e41-8ac9-d302f3c11f90 label.sk-toggleable__label-arrow:before {\n",
       "    /* Arrow on the left of the label */\n",
       "    content: \"▸\";\n",
       "    float: left;\n",
       "    margin-right: 0.25em;\n",
       "    color: var(--sklearn-color-icon);\n",
       "  }\n",
       "\n",
       "  #sk-77ffdd6e-c42e-4e41-8ac9-d302f3c11f90 label.sk-toggleable__label-arrow:hover:before {\n",
       "    color: var(--sklearn-color-text);\n",
       "  }\n",
       "\n",
       "  /* Toggleable content - dropdown */\n",
       "\n",
       "  #sk-77ffdd6e-c42e-4e41-8ac9-d302f3c11f90 div.sk-toggleable__content {\n",
       "    max-height: 0;\n",
       "    max-width: 0;\n",
       "    overflow: hidden;\n",
       "    text-align: left;\n",
       "    background-color: var(--sklearn-color-level-0);\n",
       "  }\n",
       "\n",
       "  #sk-77ffdd6e-c42e-4e41-8ac9-d302f3c11f90 div.sk-toggleable__content pre {\n",
       "    margin: 0.2em;\n",
       "    border-radius: 0.25em;\n",
       "    color: var(--sklearn-color-text);\n",
       "    background-color: var(--sklearn-color-level-0);\n",
       "  }\n",
       "\n",
       "  #sk-77ffdd6e-c42e-4e41-8ac9-d302f3c11f90 input.sk-toggleable__control:checked~div.sk-toggleable__content {\n",
       "    /* Expand drop-down */\n",
       "    max-height: 200px;\n",
       "    max-width: 100%;\n",
       "    overflow: auto;\n",
       "  }\n",
       "\n",
       "  #sk-77ffdd6e-c42e-4e41-8ac9-d302f3c11f90 input.sk-toggleable__control:checked~label.sk-toggleable__label-arrow:before {\n",
       "    content: \"▾\";\n",
       "  }\n",
       "\n",
       "  /* Pipeline/ColumnTransformer-specific style */\n",
       "\n",
       "  #sk-77ffdd6e-c42e-4e41-8ac9-d302f3c11f90 div.sk-label input.sk-toggleable__control:checked~label.sk-toggleable__label {\n",
       "    color: var(--sklearn-color-text);\n",
       "    background-color: var(--sklearn-color-level-2);\n",
       "  }\n",
       "\n",
       "  /* Estimator-specific style */\n",
       "\n",
       "  /* Colorize estimator box */\n",
       "  #sk-77ffdd6e-c42e-4e41-8ac9-d302f3c11f90 div.sk-estimator input.sk-toggleable__control:checked~label.sk-toggleable__label {\n",
       "    /* unfitted */\n",
       "    background-color: var(--sklearn-color-level-2);\n",
       "  }\n",
       "\n",
       "  #sk-77ffdd6e-c42e-4e41-8ac9-d302f3c11f90 div.sk-label label.sk-toggleable__label,\n",
       "  #sk-77ffdd6e-c42e-4e41-8ac9-d302f3c11f90 div.sk-label label {\n",
       "    /* The background is the default theme color */\n",
       "    color: var(--sklearn-color-text-on-default-background);\n",
       "  }\n",
       "\n",
       "  /* On hover, darken the color of the background */\n",
       "  #sk-77ffdd6e-c42e-4e41-8ac9-d302f3c11f90 div.sk-label:hover label.sk-toggleable__label {\n",
       "    color: var(--sklearn-color-text);\n",
       "    background-color: var(--sklearn-color-level-2);\n",
       "  }\n",
       "\n",
       "  /* Estimator label */\n",
       "\n",
       "  #sk-77ffdd6e-c42e-4e41-8ac9-d302f3c11f90 div.sk-label label {\n",
       "    font-family: monospace;\n",
       "    font-weight: bold;\n",
       "    display: inline-block;\n",
       "    line-height: 1.2em;\n",
       "  }\n",
       "\n",
       "  #sk-77ffdd6e-c42e-4e41-8ac9-d302f3c11f90 div.sk-label-container {\n",
       "    text-align: center;\n",
       "  }\n",
       "\n",
       "  /* Estimator-specific */\n",
       "  #sk-77ffdd6e-c42e-4e41-8ac9-d302f3c11f90 div.sk-estimator {\n",
       "    font-family: monospace;\n",
       "    border: 1px dotted var(--sklearn-color-border-box);\n",
       "    border-radius: 0.25em;\n",
       "    box-sizing: border-box;\n",
       "    margin-bottom: 0.5em;\n",
       "    background-color: var(--sklearn-color-level-0);\n",
       "  }\n",
       "\n",
       "  /* on hover */\n",
       "  #sk-77ffdd6e-c42e-4e41-8ac9-d302f3c11f90 div.sk-estimator:hover {\n",
       "    background-color: var(--sklearn-color-level-2);\n",
       "  }\n",
       "\n",
       "  /* Specification for estimator info */\n",
       "\n",
       "  .sk-estimator-doc-link,\n",
       "  a:link.sk-estimator-doc-link,\n",
       "  a:visited.sk-estimator-doc-link {\n",
       "    float: right;\n",
       "    font-size: smaller;\n",
       "    line-height: 1em;\n",
       "    font-family: monospace;\n",
       "    background-color: var(--sklearn-color-background);\n",
       "    border-radius: 1em;\n",
       "    height: 1em;\n",
       "    width: 1em;\n",
       "    text-decoration: none !important;\n",
       "    margin-left: 1ex;\n",
       "    border: var(--sklearn-color-level-1) 1pt solid;\n",
       "    color: var(--sklearn-color-level-1);\n",
       "  }\n",
       "\n",
       "  /* On hover */\n",
       "  div.sk-estimator:hover .sk-estimator-doc-link:hover,\n",
       "  .sk-estimator-doc-link:hover,\n",
       "  div.sk-label-container:hover .sk-estimator-doc-link:hover,\n",
       "  .sk-estimator-doc-link:hover {\n",
       "    background-color: var(--sklearn-color-level-3);\n",
       "    color: var(--sklearn-color-background);\n",
       "    text-decoration: none;\n",
       "  }\n",
       "\n",
       "  /* Span, style for the box shown on hovering the info icon */\n",
       "  .sk-estimator-doc-link span {\n",
       "    display: none;\n",
       "    z-index: 9999;\n",
       "    position: relative;\n",
       "    font-weight: normal;\n",
       "    right: .2ex;\n",
       "    padding: .5ex;\n",
       "    margin: .5ex;\n",
       "    width: min-content;\n",
       "    min-width: 20ex;\n",
       "    max-width: 50ex;\n",
       "    color: var(--sklearn-color-text);\n",
       "    box-shadow: 2pt 2pt 4pt #999;\n",
       "    background: var(--sklearn-color-level-0);\n",
       "    border: .5pt solid var(--sklearn-color-level-3);\n",
       "  }\n",
       "\n",
       "  .sk-estimator-doc-link:hover span {\n",
       "    display: block;\n",
       "  }\n",
       "\n",
       "  /* \"?\"-specific style due to the `<a>` HTML tag */\n",
       "\n",
       "  #sk-77ffdd6e-c42e-4e41-8ac9-d302f3c11f90 a.estimator_doc_link {\n",
       "    float: right;\n",
       "    font-size: 1rem;\n",
       "    line-height: 1em;\n",
       "    font-family: monospace;\n",
       "    background-color: var(--sklearn-color-background);\n",
       "    border-radius: 1rem;\n",
       "    height: 1rem;\n",
       "    width: 1rem;\n",
       "    text-decoration: none;\n",
       "    color: var(--sklearn-color-level-1);\n",
       "    border: var(--sklearn-color-level-1) 1pt solid;\n",
       "  }\n",
       "\n",
       "  /* On hover */\n",
       "  #sk-77ffdd6e-c42e-4e41-8ac9-d302f3c11f90 a.estimator_doc_link:hover {\n",
       "    background-color: var(--sklearn-color-level-3);\n",
       "    color: var(--sklearn-color-background);\n",
       "    text-decoration: none;\n",
       "  }\n",
       "</style><div id='sk-77ffdd6e-c42e-4e41-8ac9-d302f3c11f90' class=\"sk-top-container\"><div class=\"sk-text-repr-fallback\"><pre>PytorchForecastingNBeats(trainer_params={&#x27;max_epochs&#x27;: 10})</pre><b>Please rerun this cell to show the HTML repr or trust the notebook.</b></div><div class=\"sk-container\" hidden><div class='sk-item'><div class=\"sk-estimator sk-toggleable\"><input class=\"sk-toggleable__control sk-hidden--visually\" id=UUID('6ec0c3f1-66e2-4e13-a391-08243012780d') type=\"checkbox\" checked><label for=UUID('6ec0c3f1-66e2-4e13-a391-08243012780d') class='sk-toggleable__label sk-toggleable__label-arrow'>PytorchForecastingNBeats<a class=\"sk-estimator-doc-link\" rel=\"noreferrer\" target=\"_blank\" href=\"https://www.sktime.net/en/v0.32.1/api_reference/auto_generated/sktime.forecasting.pytorchforecasting.PytorchForecastingNBeats.html\">?<span>Documentation for PytorchForecastingNBeats</span></a></label><div class=\"sk-toggleable__content\"><pre>PytorchForecastingNBeats(trainer_params={&#x27;max_epochs&#x27;: 10})</pre></div></div></div></div></div>"
      ],
      "text/plain": [
       "PytorchForecastingNBeats(trainer_params={'max_epochs': 10})"
      ]
     },
     "execution_count": 8,
     "metadata": {},
     "output_type": "execute_result"
    }
   ],
   "source": [
    "# This could take 1 min to fit the data\n",
    "model.fit(y=y_train, fh=fh)"
   ]
  },
  {
   "cell_type": "markdown",
   "metadata": {},
   "source": [
    "Then we can predict on `y_test` which is not included in `y_train`."
   ]
  },
  {
   "cell_type": "code",
   "execution_count": 9,
   "metadata": {},
   "outputs": [
    {
     "name": "stderr",
     "output_type": "stream",
     "text": [
      "GPU available: False, used: False\n",
      "TPU available: False, using: 0 TPU cores\n",
      "HPU available: False, using: 0 HPUs\n"
     ]
    },
    {
     "data": {
      "text/html": [
       "<div>\n",
       "<style scoped>\n",
       "    .dataframe tbody tr th:only-of-type {\n",
       "        vertical-align: middle;\n",
       "    }\n",
       "\n",
       "    .dataframe tbody tr th {\n",
       "        vertical-align: top;\n",
       "    }\n",
       "\n",
       "    .dataframe thead th {\n",
       "        text-align: right;\n",
       "    }\n",
       "</style>\n",
       "<table border=\"1\" class=\"dataframe\">\n",
       "  <thead>\n",
       "    <tr style=\"text-align: right;\">\n",
       "      <th></th>\n",
       "      <th></th>\n",
       "      <th></th>\n",
       "      <th>volume</th>\n",
       "    </tr>\n",
       "    <tr>\n",
       "      <th>agency</th>\n",
       "      <th>sku</th>\n",
       "      <th>date</th>\n",
       "      <th></th>\n",
       "    </tr>\n",
       "  </thead>\n",
       "  <tbody>\n",
       "    <tr>\n",
       "      <th rowspan=\"5\" valign=\"top\">Agency_56</th>\n",
       "      <th rowspan=\"5\" valign=\"top\">SKU_01</th>\n",
       "      <th>2017-04-01</th>\n",
       "      <td>3773.125000</td>\n",
       "    </tr>\n",
       "    <tr>\n",
       "      <th>2017-05-01</th>\n",
       "      <td>3926.056152</td>\n",
       "    </tr>\n",
       "    <tr>\n",
       "      <th>2017-06-01</th>\n",
       "      <td>4043.272705</td>\n",
       "    </tr>\n",
       "    <tr>\n",
       "      <th>2017-07-01</th>\n",
       "      <td>4091.253418</td>\n",
       "    </tr>\n",
       "    <tr>\n",
       "      <th>2017-08-01</th>\n",
       "      <td>4096.346680</td>\n",
       "    </tr>\n",
       "    <tr>\n",
       "      <th>...</th>\n",
       "      <th>...</th>\n",
       "      <th>...</th>\n",
       "      <td>...</td>\n",
       "    </tr>\n",
       "    <tr>\n",
       "      <th rowspan=\"5\" valign=\"top\">Agency_60</th>\n",
       "      <th rowspan=\"5\" valign=\"top\">SKU_23</th>\n",
       "      <th>2017-08-01</th>\n",
       "      <td>1.938044</td>\n",
       "    </tr>\n",
       "    <tr>\n",
       "      <th>2017-09-01</th>\n",
       "      <td>1.770190</td>\n",
       "    </tr>\n",
       "    <tr>\n",
       "      <th>2017-10-01</th>\n",
       "      <td>1.587635</td>\n",
       "    </tr>\n",
       "    <tr>\n",
       "      <th>2017-11-01</th>\n",
       "      <td>1.700299</td>\n",
       "    </tr>\n",
       "    <tr>\n",
       "      <th>2017-12-01</th>\n",
       "      <td>2.342753</td>\n",
       "    </tr>\n",
       "  </tbody>\n",
       "</table>\n",
       "<p>315 rows × 1 columns</p>\n",
       "</div>"
      ],
      "text/plain": [
       "                                  volume\n",
       "agency    sku    date                   \n",
       "Agency_56 SKU_01 2017-04-01  3773.125000\n",
       "                 2017-05-01  3926.056152\n",
       "                 2017-06-01  4043.272705\n",
       "                 2017-07-01  4091.253418\n",
       "                 2017-08-01  4096.346680\n",
       "...                                  ...\n",
       "Agency_60 SKU_23 2017-08-01     1.938044\n",
       "                 2017-09-01     1.770190\n",
       "                 2017-10-01     1.587635\n",
       "                 2017-11-01     1.700299\n",
       "                 2017-12-01     2.342753\n",
       "\n",
       "[315 rows x 1 columns]"
      ]
     },
     "execution_count": 9,
     "metadata": {},
     "output_type": "execute_result"
    }
   ],
   "source": [
    "y_pred = model.predict(y=y_test, fh=fh)\n",
    "y_pred"
   ]
  },
  {
   "cell_type": "markdown",
   "metadata": {},
   "source": [
    "`y_pred` have the same instance index as `y_test`."
   ]
  },
  {
   "cell_type": "markdown",
   "metadata": {},
   "source": [
    "We can plot one series to see the result. As we train the model for a few epochs, we can not expect too much."
   ]
  },
  {
   "cell_type": "code",
   "execution_count": 10,
   "metadata": {},
   "outputs": [
    {
     "data": {
      "text/plain": [
       "(<Figure size 1600x400 with 1 Axes>, <Axes: ylabel='volume'>)"
      ]
     },
     "execution_count": 10,
     "metadata": {},
     "output_type": "execute_result"
    },
    {
     "data": {
      "image/png": "[encoded data removed]",
      "text/plain": [
       "<Figure size 1600x400 with 1 Axes>"
      ]
     },
     "metadata": {},
     "output_type": "display_data"
    }
   ],
   "source": [
    "from sktime.utils.plotting import plot_series\n",
    "ins=(\"Agency_59\",\"SKU_04\")\n",
    "plot_series(\n",
    "    y_test.loc[ins],\n",
    "    y_pred.loc[ins],\n",
    "    y_true.loc[ins],\n",
    "    labels=[\"y\", \"y_pred\", \"y_true\"],\n",
    ")"
   ]
  },
  {
   "cell_type": "markdown",
   "metadata": {},
   "source": [
    "#### Global Forecasting with exogeneous data\n",
    "\n",
    "Then let's try to fit and predict with exogeneous data"
   ]
  },
  {
   "cell_type": "markdown",
   "metadata": {},
   "source": [
    "When we predict with exogeneous data, we need to pass both `X` and `y` to `predict`.\n",
    "\n",
    "`X` must contain all historical values and the time points to be predicted while `y` should only contain the historical values but not the time points to be predicted."
   ]
  },
  {
   "cell_type": "code",
   "execution_count": 12,
   "metadata": {},
   "outputs": [],
   "source": [
    "X_train, X_test, y_train, y_test = train_test_split(\n",
    "    X, y, test_size=0.1, train_size=0.9, shuffle=False\n",
    ")\n",
    "y_true = y_test.groupby(level=[0,1]).apply(lambda x: x.droplevel([0,1]).iloc[-max(fh):])\n",
    "y_test = y_test.groupby(level=[0,1]).apply(lambda x: x.droplevel([0,1]).iloc[:-max(fh)])"
   ]
  },
  {
   "cell_type": "markdown",
   "metadata": {},
   "source": [
    "`X_train` and `y_train` have the same time index from 2000-01-01 to 2000-01-10.\n",
    "\n",
    "However `y_test` is shorter than `X_test`. \n",
    "\n",
    "`X_test` has the time index from 2013-01-01 to 2017-12-01 but `y_test` only has the time index from 2013-01-01 to 2017-03-01. \n",
    "\n",
    "This is because we don't know the values from 2017-4-01 to 2017-12-01 of `y_test` which are going to be forecasted."
   ]
  },
  {
   "cell_type": "code",
   "execution_count": 13,
   "metadata": {},
   "outputs": [
    {
     "data": {
      "text/html": [
       "<div>\n",
       "<style scoped>\n",
       "    .dataframe tbody tr th:only-of-type {\n",
       "        vertical-align: middle;\n",
       "    }\n",
       "\n",
       "    .dataframe tbody tr th {\n",
       "        vertical-align: top;\n",
       "    }\n",
       "\n",
       "    .dataframe thead th {\n",
       "        text-align: right;\n",
       "    }\n",
       "</style>\n",
       "<table border=\"1\" class=\"dataframe\">\n",
       "  <thead>\n",
       "    <tr style=\"text-align: right;\">\n",
       "      <th></th>\n",
       "      <th></th>\n",
       "      <th></th>\n",
       "      <th>volume</th>\n",
       "    </tr>\n",
       "    <tr>\n",
       "      <th>agency</th>\n",
       "      <th>sku</th>\n",
       "      <th>date</th>\n",
       "      <th></th>\n",
       "    </tr>\n",
       "  </thead>\n",
       "  <tbody>\n",
       "    <tr>\n",
       "      <th rowspan=\"5\" valign=\"top\">Agency_56</th>\n",
       "      <th rowspan=\"5\" valign=\"top\">SKU_01</th>\n",
       "      <th>2013-01-01</th>\n",
       "      <td>2999.160</td>\n",
       "    </tr>\n",
       "    <tr>\n",
       "      <th>2013-02-01</th>\n",
       "      <td>3541.212</td>\n",
       "    </tr>\n",
       "    <tr>\n",
       "      <th>2013-03-01</th>\n",
       "      <td>4057.992</td>\n",
       "    </tr>\n",
       "    <tr>\n",
       "      <th>2013-04-01</th>\n",
       "      <td>4152.276</td>\n",
       "    </tr>\n",
       "    <tr>\n",
       "      <th>2013-05-01</th>\n",
       "      <td>4885.488</td>\n",
       "    </tr>\n",
       "    <tr>\n",
       "      <th>...</th>\n",
       "      <th>...</th>\n",
       "      <th>...</th>\n",
       "      <td>...</td>\n",
       "    </tr>\n",
       "    <tr>\n",
       "      <th rowspan=\"5\" valign=\"top\">Agency_60</th>\n",
       "      <th rowspan=\"5\" valign=\"top\">SKU_23</th>\n",
       "      <th>2016-11-01</th>\n",
       "      <td>0.360</td>\n",
       "    </tr>\n",
       "    <tr>\n",
       "      <th>2016-12-01</th>\n",
       "      <td>3.510</td>\n",
       "    </tr>\n",
       "    <tr>\n",
       "      <th>2017-01-01</th>\n",
       "      <td>2.160</td>\n",
       "    </tr>\n",
       "    <tr>\n",
       "      <th>2017-02-01</th>\n",
       "      <td>2.520</td>\n",
       "    </tr>\n",
       "    <tr>\n",
       "      <th>2017-03-01</th>\n",
       "      <td>1.710</td>\n",
       "    </tr>\n",
       "  </tbody>\n",
       "</table>\n",
       "<p>1785 rows × 1 columns</p>\n",
       "</div>"
      ],
      "text/plain": [
       "                               volume\n",
       "agency    sku    date                \n",
       "Agency_56 SKU_01 2013-01-01  2999.160\n",
       "                 2013-02-01  3541.212\n",
       "                 2013-03-01  4057.992\n",
       "                 2013-04-01  4152.276\n",
       "                 2013-05-01  4885.488\n",
       "...                               ...\n",
       "Agency_60 SKU_23 2016-11-01     0.360\n",
       "                 2016-12-01     3.510\n",
       "                 2017-01-01     2.160\n",
       "                 2017-02-01     2.520\n",
       "                 2017-03-01     1.710\n",
       "\n",
       "[1785 rows x 1 columns]"
      ]
     },
     "execution_count": 13,
     "metadata": {},
     "output_type": "execute_result"
    }
   ],
   "source": [
    "y_test"
   ]
  },
  {
   "cell_type": "code",
   "execution_count": 14,
   "metadata": {},
   "outputs": [
    {
     "name": "stderr",
     "output_type": "stream",
     "text": [
      "GPU available: False, used: False\n",
      "TPU available: False, using: 0 TPU cores\n",
      "HPU available: False, using: 0 HPUs\n",
      "\n",
      "  | Name            | Type           | Params | Mode \n",
      "-----------------------------------------------------------\n",
      "0 | loss            | MASE           | 0      | train\n",
      "1 | logging_metrics | ModuleList     | 0      | train\n",
      "2 | embeddings      | MultiEmbedding | 0      | train\n",
      "3 | model           | NHiTS          | 2.0 M  | train\n",
      "-----------------------------------------------------------\n",
      "2.0 M     Trainable params\n",
      "0         Non-trainable params\n",
      "2.0 M     Total params\n",
      "8.033     Total estimated model params size (MB)\n",
      "35        Modules in train mode\n",
      "0         Modules in eval mode\n"
     ]
    },
    {
     "data": {
      "application/vnd.jupyter.widget-view+json": {
       "model_id": "74091da5d7f94c90bf75c2a5c24b0fa2",
       "version_major": 2,
       "version_minor": 0
      },
      "text/plain": [
       "Sanity Checking: |          | 0/? [00:00<?, ?it/s]"
      ]
     },
     "metadata": {},
     "output_type": "display_data"
    },
    {
     "data": {
      "application/vnd.jupyter.widget-view+json": {
       "model_id": "091922236200412992e06011e9c84645",
       "version_major": 2,
       "version_minor": 0
      },
      "text/plain": [
       "Training: |          | 0/? [00:00<?, ?it/s]"
      ]
     },
     "metadata": {},
     "output_type": "display_data"
    },
    {
     "data": {
      "application/vnd.jupyter.widget-view+json": {
       "model_id": "0cfd3b94cab7479389addf6f8a021d07",
       "version_major": 2,
       "version_minor": 0
      },
      "text/plain": [
       "Validation: |          | 0/? [00:00<?, ?it/s]"
      ]
     },
     "metadata": {},
     "output_type": "display_data"
    },
    {
     "data": {
      "application/vnd.jupyter.widget-view+json": {
       "model_id": "3e8dc8cc1aa54f5f8189b22b036d2e0a",
       "version_major": 2,
       "version_minor": 0
      },
      "text/plain": [
       "Validation: |          | 0/? [00:00<?, ?it/s]"
      ]
     },
     "metadata": {},
     "output_type": "display_data"
    },
    {
     "data": {
      "application/vnd.jupyter.widget-view+json": {
       "model_id": "6fc15c63df3d4acfa3e5eec5167436ed",
       "version_major": 2,
       "version_minor": 0
      },
      "text/plain": [
       "Validation: |          | 0/? [00:00<?, ?it/s]"
      ]
     },
     "metadata": {},
     "output_type": "display_data"
    },
    {
     "data": {
      "application/vnd.jupyter.widget-view+json": {
       "model_id": "98d90536bf9946faa87e7720ee4a9ab6",
       "version_major": 2,
       "version_minor": 0
      },
      "text/plain": [
       "Validation: |          | 0/? [00:00<?, ?it/s]"
      ]
     },
     "metadata": {},
     "output_type": "display_data"
    },
    {
     "data": {
      "application/vnd.jupyter.widget-view+json": {
       "model_id": "cff73246c8a440ec8b828fe4e367ad1a",
       "version_major": 2,
       "version_minor": 0
      },
      "text/plain": [
       "Validation: |          | 0/? [00:00<?, ?it/s]"
      ]
     },
     "metadata": {},
     "output_type": "display_data"
    },
    {
     "data": {
      "application/vnd.jupyter.widget-view+json": {
       "model_id": "5b98645b58f044ddb5987dd794ae4304",
       "version_major": 2,
       "version_minor": 0
      },
      "text/plain": [
       "Validation: |          | 0/? [00:00<?, ?it/s]"
      ]
     },
     "metadata": {},
     "output_type": "display_data"
    },
    {
     "data": {
      "application/vnd.jupyter.widget-view+json": {
       "model_id": "aff5610204f3474c867ab8e4a902f181",
       "version_major": 2,
       "version_minor": 0
      },
      "text/plain": [
       "Validation: |          | 0/? [00:00<?, ?it/s]"
      ]
     },
     "metadata": {},
     "output_type": "display_data"
    },
    {
     "data": {
      "application/vnd.jupyter.widget-view+json": {
       "model_id": "c018dafc59e544e59584432544817ea9",
       "version_major": 2,
       "version_minor": 0
      },
      "text/plain": [
       "Validation: |          | 0/? [00:00<?, ?it/s]"
      ]
     },
     "metadata": {},
     "output_type": "display_data"
    },
    {
     "data": {
      "application/vnd.jupyter.widget-view+json": {
       "model_id": "a831f2723bf64df1a5e8b98a020b1e4a",
       "version_major": 2,
       "version_minor": 0
      },
      "text/plain": [
       "Validation: |          | 0/? [00:00<?, ?it/s]"
      ]
     },
     "metadata": {},
     "output_type": "display_data"
    },
    {
     "data": {
      "application/vnd.jupyter.widget-view+json": {
       "model_id": "746a2a3f20404755b3cc2bbb50111872",
       "version_major": 2,
       "version_minor": 0
      },
      "text/plain": [
       "Validation: |          | 0/? [00:00<?, ?it/s]"
      ]
     },
     "metadata": {},
     "output_type": "display_data"
    },
    {
     "name": "stderr",
     "output_type": "stream",
     "text": [
      "`Trainer.fit` stopped: `max_epochs=10` reached.\n"
     ]
    },
    {
     "data": {
      "text/html": [
       "<style>#sk-e6062c64-26f0-46df-9d38-d1bb02fcfee5 {\n",
       "    /* Definition of color scheme common for light and dark mode */\n",
       "    --sklearn-color-text: black;\n",
       "    --sklearn-color-line: gray;\n",
       "    /* Definition of color scheme for objects */\n",
       "    --sklearn-color-level-0: #fff5e6;\n",
       "    --sklearn-color-level-1: #f6e4d2;\n",
       "    --sklearn-color-level-2: #ffe0b3;\n",
       "    --sklearn-color-level-3: chocolate;\n",
       "\n",
       "    /* Specific color for light theme */\n",
       "    --sklearn-color-text-on-default-background: var(--theme-code-foreground, var(--jp-content-font-color1, black));\n",
       "    --sklearn-color-background: var(--theme-background, var(--jp-layout-color0, white));\n",
       "    --sklearn-color-border-box: var(--theme-code-foreground, var(--jp-content-font-color1, black));\n",
       "    --sklearn-color-icon: #696969;\n",
       "\n",
       "    @media (prefers-color-scheme: dark) {\n",
       "      /* Redefinition of color scheme for dark theme */\n",
       "      --sklearn-color-text-on-default-background: var(--theme-code-foreground, var(--jp-content-font-color1, white));\n",
       "      --sklearn-color-background: var(--theme-background, var(--jp-layout-color0, #111));\n",
       "      --sklearn-color-border-box: var(--theme-code-foreground, var(--jp-content-font-color1, white));\n",
       "      --sklearn-color-icon: #878787;\n",
       "    }\n",
       "  }\n",
       "\n",
       "  #sk-e6062c64-26f0-46df-9d38-d1bb02fcfee5 {\n",
       "    color: var(--sklearn-color-text);\n",
       "  }\n",
       "\n",
       "  #sk-e6062c64-26f0-46df-9d38-d1bb02fcfee5 pre {\n",
       "    padding: 0;\n",
       "  }\n",
       "\n",
       "  #sk-e6062c64-26f0-46df-9d38-d1bb02fcfee5 input.sk-hidden--visually {\n",
       "    border: 0;\n",
       "    clip: rect(1px 1px 1px 1px);\n",
       "    clip: rect(1px, 1px, 1px, 1px);\n",
       "    height: 1px;\n",
       "    margin: -1px;\n",
       "    overflow: hidden;\n",
       "    padding: 0;\n",
       "    position: absolute;\n",
       "    width: 1px;\n",
       "  }\n",
       "\n",
       "  #sk-e6062c64-26f0-46df-9d38-d1bb02fcfee5 div.sk-dashed-wrapped {\n",
       "    border: 1px dashed var(--sklearn-color-line);\n",
       "    margin: 0 0.4em 0.5em 0.4em;\n",
       "    box-sizing: border-box;\n",
       "    padding-bottom: 0.4em;\n",
       "    background-color: var(--sklearn-color-background);\n",
       "  }\n",
       "\n",
       "  #sk-e6062c64-26f0-46df-9d38-d1bb02fcfee5 div.sk-container {\n",
       "    /* jupyter's `normalize.less` sets `[hidden] { display: none; }`\n",
       "       but bootstrap.min.css set `[hidden] { display: none !important; }`\n",
       "       so we also need the `!important` here to be able to override the\n",
       "       default hidden behavior on the sphinx rendered scikit-learn.org.\n",
       "       See: https://github.com/scikit-learn/scikit-learn/issues/21755 */\n",
       "    display: inline-block !important;\n",
       "    position: relative;\n",
       "  }\n",
       "\n",
       "  #sk-e6062c64-26f0-46df-9d38-d1bb02fcfee5 div.sk-text-repr-fallback {\n",
       "    display: none;\n",
       "  }\n",
       "\n",
       "  div.sk-parallel-item,\n",
       "  div.sk-serial,\n",
       "  div.sk-item {\n",
       "    /* draw centered vertical line to link estimators */\n",
       "    background-image: linear-gradient(var(--sklearn-color-text-on-default-background), var(--sklearn-color-text-on-default-background));\n",
       "    background-size: 2px 100%;\n",
       "    background-repeat: no-repeat;\n",
       "    background-position: center center;\n",
       "  }\n",
       "\n",
       "  /* Parallel-specific style estimator block */\n",
       "\n",
       "  #sk-e6062c64-26f0-46df-9d38-d1bb02fcfee5 div.sk-parallel-item::after {\n",
       "    content: \"\";\n",
       "    width: 100%;\n",
       "    border-bottom: 2px solid var(--sklearn-color-text-on-default-background);\n",
       "    flex-grow: 1;\n",
       "  }\n",
       "\n",
       "  #sk-e6062c64-26f0-46df-9d38-d1bb02fcfee5 div.sk-parallel {\n",
       "    display: flex;\n",
       "    align-items: stretch;\n",
       "    justify-content: center;\n",
       "    background-color: var(--sklearn-color-background);\n",
       "    position: relative;\n",
       "  }\n",
       "\n",
       "  #sk-e6062c64-26f0-46df-9d38-d1bb02fcfee5 div.sk-parallel-item {\n",
       "    display: flex;\n",
       "    flex-direction: column;\n",
       "  }\n",
       "\n",
       "  #sk-e6062c64-26f0-46df-9d38-d1bb02fcfee5 div.sk-parallel-item:first-child::after {\n",
       "    align-self: flex-end;\n",
       "    width: 50%;\n",
       "  }\n",
       "\n",
       "  #sk-e6062c64-26f0-46df-9d38-d1bb02fcfee5 div.sk-parallel-item:last-child::after {\n",
       "    align-self: flex-start;\n",
       "    width: 50%;\n",
       "  }\n",
       "\n",
       "  #sk-e6062c64-26f0-46df-9d38-d1bb02fcfee5 div.sk-parallel-item:only-child::after {\n",
       "    width: 0;\n",
       "  }\n",
       "\n",
       "  /* Serial-specific style estimator block */\n",
       "\n",
       "  #sk-e6062c64-26f0-46df-9d38-d1bb02fcfee5 div.sk-serial {\n",
       "    display: flex;\n",
       "    flex-direction: column;\n",
       "    align-items: center;\n",
       "    background-color: var(--sklearn-color-background);\n",
       "    padding-right: 1em;\n",
       "    padding-left: 1em;\n",
       "  }\n",
       "\n",
       "\n",
       "  /* Toggleable style: style used for estimator/Pipeline/ColumnTransformer box that is\n",
       "  clickable and can be expanded/collapsed.\n",
       "  - Pipeline and ColumnTransformer use this feature and define the default style\n",
       "  - Estimators will overwrite some part of the style using the `sk-estimator` class\n",
       "  */\n",
       "\n",
       "  /* Pipeline and ColumnTransformer style (default) */\n",
       "\n",
       "  #sk-e6062c64-26f0-46df-9d38-d1bb02fcfee5 div.sk-toggleable {\n",
       "    /* Default theme specific background. It is overwritten whether we have a\n",
       "    specific estimator or a Pipeline/ColumnTransformer */\n",
       "    background-color: var(--sklearn-color-background);\n",
       "  }\n",
       "\n",
       "  /* Toggleable label */\n",
       "  #sk-e6062c64-26f0-46df-9d38-d1bb02fcfee5 label.sk-toggleable__label {\n",
       "    cursor: pointer;\n",
       "    display: block;\n",
       "    width: 100%;\n",
       "    margin-bottom: 0;\n",
       "    padding: 0.5em;\n",
       "    box-sizing: border-box;\n",
       "    text-align: center;\n",
       "  }\n",
       "\n",
       "  #sk-e6062c64-26f0-46df-9d38-d1bb02fcfee5 label.sk-toggleable__label-arrow:before {\n",
       "    /* Arrow on the left of the label */\n",
       "    content: \"▸\";\n",
       "    float: left;\n",
       "    margin-right: 0.25em;\n",
       "    color: var(--sklearn-color-icon);\n",
       "  }\n",
       "\n",
       "  #sk-e6062c64-26f0-46df-9d38-d1bb02fcfee5 label.sk-toggleable__label-arrow:hover:before {\n",
       "    color: var(--sklearn-color-text);\n",
       "  }\n",
       "\n",
       "  /* Toggleable content - dropdown */\n",
       "\n",
       "  #sk-e6062c64-26f0-46df-9d38-d1bb02fcfee5 div.sk-toggleable__content {\n",
       "    max-height: 0;\n",
       "    max-width: 0;\n",
       "    overflow: hidden;\n",
       "    text-align: left;\n",
       "    background-color: var(--sklearn-color-level-0);\n",
       "  }\n",
       "\n",
       "  #sk-e6062c64-26f0-46df-9d38-d1bb02fcfee5 div.sk-toggleable__content pre {\n",
       "    margin: 0.2em;\n",
       "    border-radius: 0.25em;\n",
       "    color: var(--sklearn-color-text);\n",
       "    background-color: var(--sklearn-color-level-0);\n",
       "  }\n",
       "\n",
       "  #sk-e6062c64-26f0-46df-9d38-d1bb02fcfee5 input.sk-toggleable__control:checked~div.sk-toggleable__content {\n",
       "    /* Expand drop-down */\n",
       "    max-height: 200px;\n",
       "    max-width: 100%;\n",
       "    overflow: auto;\n",
       "  }\n",
       "\n",
       "  #sk-e6062c64-26f0-46df-9d38-d1bb02fcfee5 input.sk-toggleable__control:checked~label.sk-toggleable__label-arrow:before {\n",
       "    content: \"▾\";\n",
       "  }\n",
       "\n",
       "  /* Pipeline/ColumnTransformer-specific style */\n",
       "\n",
       "  #sk-e6062c64-26f0-46df-9d38-d1bb02fcfee5 div.sk-label input.sk-toggleable__control:checked~label.sk-toggleable__label {\n",
       "    color: var(--sklearn-color-text);\n",
       "    background-color: var(--sklearn-color-level-2);\n",
       "  }\n",
       "\n",
       "  /* Estimator-specific style */\n",
       "\n",
       "  /* Colorize estimator box */\n",
       "  #sk-e6062c64-26f0-46df-9d38-d1bb02fcfee5 div.sk-estimator input.sk-toggleable__control:checked~label.sk-toggleable__label {\n",
       "    /* unfitted */\n",
       "    background-color: var(--sklearn-color-level-2);\n",
       "  }\n",
       "\n",
       "  #sk-e6062c64-26f0-46df-9d38-d1bb02fcfee5 div.sk-label label.sk-toggleable__label,\n",
       "  #sk-e6062c64-26f0-46df-9d38-d1bb02fcfee5 div.sk-label label {\n",
       "    /* The background is the default theme color */\n",
       "    color: var(--sklearn-color-text-on-default-background);\n",
       "  }\n",
       "\n",
       "  /* On hover, darken the color of the background */\n",
       "  #sk-e6062c64-26f0-46df-9d38-d1bb02fcfee5 div.sk-label:hover label.sk-toggleable__label {\n",
       "    color: var(--sklearn-color-text);\n",
       "    background-color: var(--sklearn-color-level-2);\n",
       "  }\n",
       "\n",
       "  /* Estimator label */\n",
       "\n",
       "  #sk-e6062c64-26f0-46df-9d38-d1bb02fcfee5 div.sk-label label {\n",
       "    font-family: monospace;\n",
       "    font-weight: bold;\n",
       "    display: inline-block;\n",
       "    line-height: 1.2em;\n",
       "  }\n",
       "\n",
       "  #sk-e6062c64-26f0-46df-9d38-d1bb02fcfee5 div.sk-label-container {\n",
       "    text-align: center;\n",
       "  }\n",
       "\n",
       "  /* Estimator-specific */\n",
       "  #sk-e6062c64-26f0-46df-9d38-d1bb02fcfee5 div.sk-estimator {\n",
       "    font-family: monospace;\n",
       "    border: 1px dotted var(--sklearn-color-border-box);\n",
       "    border-radius: 0.25em;\n",
       "    box-sizing: border-box;\n",
       "    margin-bottom: 0.5em;\n",
       "    background-color: var(--sklearn-color-level-0);\n",
       "  }\n",
       "\n",
       "  /* on hover */\n",
       "  #sk-e6062c64-26f0-46df-9d38-d1bb02fcfee5 div.sk-estimator:hover {\n",
       "    background-color: var(--sklearn-color-level-2);\n",
       "  }\n",
       "\n",
       "  /* Specification for estimator info */\n",
       "\n",
       "  .sk-estimator-doc-link,\n",
       "  a:link.sk-estimator-doc-link,\n",
       "  a:visited.sk-estimator-doc-link {\n",
       "    float: right;\n",
       "    font-size: smaller;\n",
       "    line-height: 1em;\n",
       "    font-family: monospace;\n",
       "    background-color: var(--sklearn-color-background);\n",
       "    border-radius: 1em;\n",
       "    height: 1em;\n",
       "    width: 1em;\n",
       "    text-decoration: none !important;\n",
       "    margin-left: 1ex;\n",
       "    border: var(--sklearn-color-level-1) 1pt solid;\n",
       "    color: var(--sklearn-color-level-1);\n",
       "  }\n",
       "\n",
       "  /* On hover */\n",
       "  div.sk-estimator:hover .sk-estimator-doc-link:hover,\n",
       "  .sk-estimator-doc-link:hover,\n",
       "  div.sk-label-container:hover .sk-estimator-doc-link:hover,\n",
       "  .sk-estimator-doc-link:hover {\n",
       "    background-color: var(--sklearn-color-level-3);\n",
       "    color: var(--sklearn-color-background);\n",
       "    text-decoration: none;\n",
       "  }\n",
       "\n",
       "  /* Span, style for the box shown on hovering the info icon */\n",
       "  .sk-estimator-doc-link span {\n",
       "    display: none;\n",
       "    z-index: 9999;\n",
       "    position: relative;\n",
       "    font-weight: normal;\n",
       "    right: .2ex;\n",
       "    padding: .5ex;\n",
       "    margin: .5ex;\n",
       "    width: min-content;\n",
       "    min-width: 20ex;\n",
       "    max-width: 50ex;\n",
       "    color: var(--sklearn-color-text);\n",
       "    box-shadow: 2pt 2pt 4pt #999;\n",
       "    background: var(--sklearn-color-level-0);\n",
       "    border: .5pt solid var(--sklearn-color-level-3);\n",
       "  }\n",
       "\n",
       "  .sk-estimator-doc-link:hover span {\n",
       "    display: block;\n",
       "  }\n",
       "\n",
       "  /* \"?\"-specific style due to the `<a>` HTML tag */\n",
       "\n",
       "  #sk-e6062c64-26f0-46df-9d38-d1bb02fcfee5 a.estimator_doc_link {\n",
       "    float: right;\n",
       "    font-size: 1rem;\n",
       "    line-height: 1em;\n",
       "    font-family: monospace;\n",
       "    background-color: var(--sklearn-color-background);\n",
       "    border-radius: 1rem;\n",
       "    height: 1rem;\n",
       "    width: 1rem;\n",
       "    text-decoration: none;\n",
       "    color: var(--sklearn-color-level-1);\n",
       "    border: var(--sklearn-color-level-1) 1pt solid;\n",
       "  }\n",
       "\n",
       "  /* On hover */\n",
       "  #sk-e6062c64-26f0-46df-9d38-d1bb02fcfee5 a.estimator_doc_link:hover {\n",
       "    background-color: var(--sklearn-color-level-3);\n",
       "    color: var(--sklearn-color-background);\n",
       "    text-decoration: none;\n",
       "  }\n",
       "</style><div id='sk-e6062c64-26f0-46df-9d38-d1bb02fcfee5' class=\"sk-top-container\"><div class=\"sk-text-repr-fallback\"><pre>PytorchForecastingNHiTS(trainer_params={&#x27;max_epochs&#x27;: 10})</pre><b>Please rerun this cell to show the HTML repr or trust the notebook.</b></div><div class=\"sk-container\" hidden><div class='sk-item'><div class=\"sk-estimator sk-toggleable\"><input class=\"sk-toggleable__control sk-hidden--visually\" id=UUID('14d3a1ff-456c-443d-b8b7-23e8a3d53853') type=\"checkbox\" checked><label for=UUID('14d3a1ff-456c-443d-b8b7-23e8a3d53853') class='sk-toggleable__label sk-toggleable__label-arrow'>PytorchForecastingNHiTS<a class=\"sk-estimator-doc-link\" rel=\"noreferrer\" target=\"_blank\" href=\"https://www.sktime.net/en/v0.32.1/api_reference/auto_generated/sktime.forecasting.pytorchforecasting.PytorchForecastingNHiTS.html\">?<span>Documentation for PytorchForecastingNHiTS</span></a></label><div class=\"sk-toggleable__content\"><pre>PytorchForecastingNHiTS(trainer_params={&#x27;max_epochs&#x27;: 10})</pre></div></div></div></div></div>"
      ],
      "text/plain": [
       "PytorchForecastingNHiTS(trainer_params={'max_epochs': 10})"
      ]
     },
     "execution_count": 14,
     "metadata": {},
     "output_type": "execute_result"
    }
   ],
   "source": [
    "# This could take 1 min to fit the data\n",
    "from sktime.forecasting.pytorchforecasting import PytorchForecastingNHiTS\n",
    "\n",
    "model = PytorchForecastingNHiTS(\n",
    "    trainer_params={\n",
    "        \"max_epochs\": 10,  # for quick test\n",
    "    },\n",
    ")\n",
    "\n",
    "model.fit(y=y_train, X=X_train, fh=fh)"
   ]
  },
  {
   "cell_type": "markdown",
   "metadata": {},
   "source": [
    "Now we can predict on `y_test` with `X_test`.\n",
    "\n",
    "`y_test` is shorter than `X_test` as `y_test` only contains the historical values not the time points to be predicted."
   ]
  },
  {
   "cell_type": "code",
   "execution_count": 15,
   "metadata": {},
   "outputs": [
    {
     "name": "stderr",
     "output_type": "stream",
     "text": [
      "GPU available: False, used: False\n",
      "TPU available: False, using: 0 TPU cores\n",
      "HPU available: False, using: 0 HPUs\n"
     ]
    },
    {
     "data": {
      "text/html": [
       "<div>\n",
       "<style scoped>\n",
       "    .dataframe tbody tr th:only-of-type {\n",
       "        vertical-align: middle;\n",
       "    }\n",
       "\n",
       "    .dataframe tbody tr th {\n",
       "        vertical-align: top;\n",
       "    }\n",
       "\n",
       "    .dataframe thead th {\n",
       "        text-align: right;\n",
       "    }\n",
       "</style>\n",
       "<table border=\"1\" class=\"dataframe\">\n",
       "  <thead>\n",
       "    <tr style=\"text-align: right;\">\n",
       "      <th></th>\n",
       "      <th></th>\n",
       "      <th></th>\n",
       "      <th>volume</th>\n",
       "    </tr>\n",
       "    <tr>\n",
       "      <th>agency</th>\n",
       "      <th>sku</th>\n",
       "      <th>date</th>\n",
       "      <th></th>\n",
       "    </tr>\n",
       "  </thead>\n",
       "  <tbody>\n",
       "    <tr>\n",
       "      <th rowspan=\"5\" valign=\"top\">Agency_56</th>\n",
       "      <th rowspan=\"5\" valign=\"top\">SKU_01</th>\n",
       "      <th>2017-04-01</th>\n",
       "      <td>3582.125244</td>\n",
       "    </tr>\n",
       "    <tr>\n",
       "      <th>2017-05-01</th>\n",
       "      <td>3725.701416</td>\n",
       "    </tr>\n",
       "    <tr>\n",
       "      <th>2017-06-01</th>\n",
       "      <td>3573.209961</td>\n",
       "    </tr>\n",
       "    <tr>\n",
       "      <th>2017-07-01</th>\n",
       "      <td>3786.751465</td>\n",
       "    </tr>\n",
       "    <tr>\n",
       "      <th>2017-08-01</th>\n",
       "      <td>3644.377930</td>\n",
       "    </tr>\n",
       "    <tr>\n",
       "      <th>...</th>\n",
       "      <th>...</th>\n",
       "      <th>...</th>\n",
       "      <td>...</td>\n",
       "    </tr>\n",
       "    <tr>\n",
       "      <th rowspan=\"5\" valign=\"top\">Agency_60</th>\n",
       "      <th rowspan=\"5\" valign=\"top\">SKU_23</th>\n",
       "      <th>2017-08-01</th>\n",
       "      <td>1.041441</td>\n",
       "    </tr>\n",
       "    <tr>\n",
       "      <th>2017-09-01</th>\n",
       "      <td>0.203066</td>\n",
       "    </tr>\n",
       "    <tr>\n",
       "      <th>2017-10-01</th>\n",
       "      <td>-0.502228</td>\n",
       "    </tr>\n",
       "    <tr>\n",
       "      <th>2017-11-01</th>\n",
       "      <td>0.882837</td>\n",
       "    </tr>\n",
       "    <tr>\n",
       "      <th>2017-12-01</th>\n",
       "      <td>0.682900</td>\n",
       "    </tr>\n",
       "  </tbody>\n",
       "</table>\n",
       "<p>315 rows × 1 columns</p>\n",
       "</div>"
      ],
      "text/plain": [
       "                                  volume\n",
       "agency    sku    date                   \n",
       "Agency_56 SKU_01 2017-04-01  3582.125244\n",
       "                 2017-05-01  3725.701416\n",
       "                 2017-06-01  3573.209961\n",
       "                 2017-07-01  3786.751465\n",
       "                 2017-08-01  3644.377930\n",
       "...                                  ...\n",
       "Agency_60 SKU_23 2017-08-01     1.041441\n",
       "                 2017-09-01     0.203066\n",
       "                 2017-10-01    -0.502228\n",
       "                 2017-11-01     0.882837\n",
       "                 2017-12-01     0.682900\n",
       "\n",
       "[315 rows x 1 columns]"
      ]
     },
     "execution_count": 15,
     "metadata": {},
     "output_type": "execute_result"
    }
   ],
   "source": [
    "y_pred = model.predict(fh=fh, X=X_test, y=y_test)\n",
    "y_pred"
   ]
  },
  {
   "cell_type": "markdown",
   "metadata": {},
   "source": [
    "We can plot one series to see the result. As we train the model for a few epochs, we can not expect too much."
   ]
  },
  {
   "cell_type": "code",
   "execution_count": 16,
   "metadata": {},
   "outputs": [
    {
     "data": {
      "text/plain": [
       "(<Figure size 1600x400 with 1 Axes>, <Axes: ylabel='volume'>)"
      ]
     },
     "execution_count": 16,
     "metadata": {},
     "output_type": "execute_result"
    },
    {
     "data": {
      "image/png": "[encoded data removed]",
      "text/plain": [
       "<Figure size 1600x400 with 1 Axes>"
      ]
     },
     "metadata": {},
     "output_type": "display_data"
    }
   ],
   "source": [
    "ins=(\"Agency_59\",\"SKU_04\")\n",
    "plot_series(\n",
    "    y_test.loc[ins],\n",
    "    y_pred.loc[ins],\n",
    "    y_true.loc[ins],\n",
    "    labels=[\"y\", \"y_pred\", \"y_true\"],\n",
    ")"
   ]
  },
  {
   "cell_type": "markdown",
   "metadata": {},
   "source": [
    "### Global Forecasters in sktime"
   ]
  },
  {
   "cell_type": "markdown",
   "metadata": {},
   "source": [
    "List of the global forecasters available in sktime"
   ]
  },
  {
   "cell_type": "code",
   "execution_count": 17,
   "metadata": {},
   "outputs": [
    {
     "data": {
      "text/html": [
       "<div>\n",
       "<style scoped>\n",
       "    .dataframe tbody tr th:only-of-type {\n",
       "        vertical-align: middle;\n",
       "    }\n",
       "\n",
       "    .dataframe tbody tr th {\n",
       "        vertical-align: top;\n",
       "    }\n",
       "\n",
       "    .dataframe thead th {\n",
       "        text-align: right;\n",
       "    }\n",
       "</style>\n",
       "<table border=\"1\" class=\"dataframe\">\n",
       "  <thead>\n",
       "    <tr style=\"text-align: right;\">\n",
       "      <th></th>\n",
       "      <th>name</th>\n",
       "      <th>object</th>\n",
       "    </tr>\n",
       "  </thead>\n",
       "  <tbody>\n",
       "    <tr>\n",
       "      <th>0</th>\n",
       "      <td>AutoRegressiveWrapper</td>\n",
       "      <td>&lt;class 'sktime.forecasting.compose._autoregres...</td>\n",
       "    </tr>\n",
       "    <tr>\n",
       "      <th>1</th>\n",
       "      <td>DummyGlobalForecaster</td>\n",
       "      <td>&lt;class 'sktime.forecasting.dummy.DummyGlobalFo...</td>\n",
       "    </tr>\n",
       "    <tr>\n",
       "      <th>2</th>\n",
       "      <td>PytorchForecastingDeepAR</td>\n",
       "      <td>&lt;class 'sktime.forecasting.pytorchforecasting....</td>\n",
       "    </tr>\n",
       "    <tr>\n",
       "      <th>3</th>\n",
       "      <td>PytorchForecastingNBeats</td>\n",
       "      <td>&lt;class 'sktime.forecasting.pytorchforecasting....</td>\n",
       "    </tr>\n",
       "    <tr>\n",
       "      <th>4</th>\n",
       "      <td>PytorchForecastingNHiTS</td>\n",
       "      <td>&lt;class 'sktime.forecasting.pytorchforecasting....</td>\n",
       "    </tr>\n",
       "    <tr>\n",
       "      <th>5</th>\n",
       "      <td>PytorchForecastingTFT</td>\n",
       "      <td>&lt;class 'sktime.forecasting.pytorchforecasting....</td>\n",
       "    </tr>\n",
       "    <tr>\n",
       "      <th>6</th>\n",
       "      <td>TinyTimeMixerForecaster</td>\n",
       "      <td>&lt;class 'sktime.forecasting.ttm.TinyTimeMixerFo...</td>\n",
       "    </tr>\n",
       "  </tbody>\n",
       "</table>\n",
       "</div>"
      ],
      "text/plain": [
       "                       name                                             object\n",
       "0     AutoRegressiveWrapper  <class 'sktime.forecasting.compose._autoregres...\n",
       "1     DummyGlobalForecaster  <class 'sktime.forecasting.dummy.DummyGlobalFo...\n",
       "2  PytorchForecastingDeepAR  <class 'sktime.forecasting.pytorchforecasting....\n",
       "3  PytorchForecastingNBeats  <class 'sktime.forecasting.pytorchforecasting....\n",
       "4   PytorchForecastingNHiTS  <class 'sktime.forecasting.pytorchforecasting....\n",
       "5     PytorchForecastingTFT  <class 'sktime.forecasting.pytorchforecasting....\n",
       "6   TinyTimeMixerForecaster  <class 'sktime.forecasting.ttm.TinyTimeMixerFo..."
      ]
     },
     "execution_count": 17,
     "metadata": {},
     "output_type": "execute_result"
    }
   ],
   "source": [
    "from sktime.registry import all_estimators\n",
    "\n",
    "all_estimators(\n",
    "\t\"forecaster\",\n",
    "\tfilter_tags={\"capability:global_forecasting\": True},\n",
    "\tas_dataframe=True,\n",
    ")"
   ]
  },
  {
   "cell_type": "markdown",
   "metadata": {},
   "source": [
    "More expected models with global forecasting interface in future - [ [ENH] Make forecasters global - Wishlist #6836 ](https://github.com/sktime/sktime/issues/6836)"
   ]
  },
  {
   "cell_type": "markdown",
   "metadata": {},
   "source": [
    "## Foundation models"
   ]
  },
  {
   "cell_type": "markdown",
   "metadata": {},
   "source": [
    "**What is a foundation model?**\n",
    "\n",
    "A foundation model is a large, **pre-trained deep learning model** that serves as a versatile base for various downstream tasks.\n",
    "\n",
    "Typically:\n",
    "* uses \"transformer\" or other advanced deep learning architecture\n",
    "* weights need to be downloaded and handled\n",
    "* 2024 state: model code not easily installable!\n",
    "    * most models have no proper package releases\n",
    "    * heavy or conflicted dependency sets\n",
    "    * commercial open source with \"lock-in\" or \"lock-down\" flavour"
   ]
  },
  {
   "cell_type": "markdown",
   "metadata": {},
   "source": [
    "`sktime`-less users need to manage:\n",
    "* **model code**, e.g., source installation\n",
    "* **model code dependencies**, python packages\n",
    "* **weights**, e.g., .pkl, .pt, .bin, .h5 files\n",
    "* **weight dependencies**, python packages"
   ]
  },
  {
   "cell_type": "markdown",
   "metadata": {},
   "source": [
    "`sktime` API abstracts this away and manages on framework level"
   ]
  },
  {
   "cell_type": "markdown",
   "metadata": {},
   "source": [
    "<img src=\"./img/fm-simple.png\" alt=\"Foundation Model Overview\" style=\"width: 100%; max-width: 600px;\">"
   ]
  },
  {
   "cell_type": "markdown",
   "metadata": {},
   "source": [
    "### Examples"
   ]
  },
  {
   "cell_type": "code",
   "execution_count": 18,
   "metadata": {},
   "outputs": [],
   "source": [
    "from sktime.datasets import load_airline\n",
    "\n",
    "# Load the dataset for example\n",
    "y = load_airline()"
   ]
  },
  {
   "cell_type": "code",
   "execution_count": 19,
   "metadata": {},
   "outputs": [],
   "source": [
    "# keep same prediction length for all examples\n",
    "pred_len = 16"
   ]
  },
  {
   "cell_type": "code",
   "execution_count": 20,
   "metadata": {},
   "outputs": [],
   "source": [
    "# import plotting function\n",
    "from sktime.utils.plotting import plot_series"
   ]
  },
  {
   "cell_type": "markdown",
   "metadata": {},
   "source": [
    "#### Informer"
   ]
  },
  {
   "cell_type": "markdown",
   "metadata": {},
   "source": [
    "A model designed for efficient long-term time series forecasting. It uses self-attention mechanisms with a sparse operation to reduce the computational complexity, making it suitable for handling large-scale data."
   ]
  },
  {
   "cell_type": "code",
   "execution_count": 21,
   "metadata": {},
   "outputs": [
    {
     "name": "stderr",
     "output_type": "stream",
     "text": [
      "Some weights of the model checkpoint at huggingface/informer-tourism-monthly were not used when initializing InformerForPrediction: ['model.embedder.embedders.0.weight']\n",
      "- This IS expected if you are initializing InformerForPrediction from the checkpoint of a model trained on another task or with another architecture (e.g. initializing a BertForSequenceClassification model from a BertForPreTraining model).\n",
      "- This IS NOT expected if you are initializing InformerForPrediction from the checkpoint of a model that you expect to be exactly identical (initializing a BertForSequenceClassification model from a BertForSequenceClassification model).\n",
      "Some weights of InformerForPrediction were not initialized from the model checkpoint at huggingface/informer-tourism-monthly and are newly initialized because the shapes did not match:\n",
      "- model.encoder.value_embedding.value_projection.weight: found shape torch.Size([32, 22]) in the checkpoint and torch.Size([32, 5]) in the model instantiated\n",
      "- model.encoder.embed_positions.weight: found shape torch.Size([48, 32]) in the checkpoint and torch.Size([25, 32]) in the model instantiated\n",
      "- model.decoder.value_embedding.value_projection.weight: found shape torch.Size([32, 22]) in the checkpoint and torch.Size([32, 5]) in the model instantiated\n",
      "- model.decoder.embed_positions.weight: found shape torch.Size([48, 32]) in the checkpoint and torch.Size([25, 32]) in the model instantiated\n",
      "You should probably TRAIN this model on a down-stream task to be able to use it for predictions and inference.\n"
     ]
    },
    {
     "data": {
      "application/vnd.jupyter.widget-view+json": {
       "model_id": "a9c9a64955364b70a34099e6baf249ca",
       "version_major": 2,
       "version_minor": 0
      },
      "text/plain": [
       "  0%|          | 0/300 [00:00<?, ?it/s]"
      ]
     },
     "metadata": {},
     "output_type": "display_data"
    },
    {
     "name": "stdout",
     "output_type": "stream",
     "text": [
      "{'train_runtime': 21.6828, 'train_samples_per_second': 405.851, 'train_steps_per_second': 13.836, 'train_loss': 6.442021891276042, 'epoch': 100.0}\n"
     ]
    }
   ],
   "source": [
    "from sktime.forecasting.hf_transformers_forecaster import HFTransformersForecaster\n",
    "\n",
    "forecaster = HFTransformersForecaster(\n",
    "    model_path = \"huggingface/informer-tourism-monthly\",\n",
    "    fit_strategy = \"minimal\",\n",
    "    training_args = {\n",
    "        \"num_train_epochs\": 100,\n",
    "        \"output_dir\": \"test_output\",\n",
    "        \"per_device_train_batch_size\": 32,\n",
    "        \"report_to\": \"none\",\n",
    "    },\n",
    "    config = {\n",
    "        \"lags_sequence\": [1, 2, 3],\n",
    "        \"context_length\": 8,\n",
    "        \"prediction_length\": pred_len,\n",
    "        \"use_cpu\": True,\n",
    "        \"label_length\": 8,\n",
    "    },\n",
    "    deterministic = True,\n",
    ")\n",
    "forecaster.fit(y, fh=list(range(1, pred_len+1)))\n",
    "y_pred = forecaster.predict()"
   ]
  },
  {
   "cell_type": "code",
   "execution_count": 22,
   "metadata": {},
   "outputs": [
    {
     "data": {
      "text/plain": [
       "(<Figure size 1600x400 with 1 Axes>,\n",
       " <Axes: ylabel='Number of airline passengers'>)"
      ]
     },
     "execution_count": 22,
     "metadata": {},
     "output_type": "execute_result"
    },
    {
     "data": {
      "image/png": "[encoded data removed]",
      "text/plain": [
       "<Figure size 1600x400 with 1 Axes>"
      ]
     },
     "metadata": {},
     "output_type": "display_data"
    }
   ],
   "source": [
    "plot_series(y, y_pred)"
   ]
  },
  {
   "cell_type": "markdown",
   "metadata": {},
   "source": [
    "#### Autoformer"
   ]
  },
  {
   "cell_type": "markdown",
   "metadata": {},
   "source": [
    "A deep learning model that focuses on improving time series forecasting by automatically learning seasonal-trend decomposition. It leverages attention mechanisms to capture long-range dependencies in the data."
   ]
  },
  {
   "cell_type": "code",
   "execution_count": 23,
   "metadata": {},
   "outputs": [
    {
     "name": "stderr",
     "output_type": "stream",
     "text": [
      "Some weights of the model checkpoint at huggingface/autoformer-tourism-monthly were not used when initializing AutoformerForPrediction: ['model.embedder.embedders.0.weight']\n",
      "- This IS expected if you are initializing AutoformerForPrediction from the checkpoint of a model trained on another task or with another architecture (e.g. initializing a BertForSequenceClassification model from a BertForPreTraining model).\n",
      "- This IS NOT expected if you are initializing AutoformerForPrediction from the checkpoint of a model that you expect to be exactly identical (initializing a BertForSequenceClassification model from a BertForSequenceClassification model).\n",
      "Some weights of AutoformerForPrediction were not initialized from the model checkpoint at huggingface/autoformer-tourism-monthly and are newly initialized because the shapes did not match:\n",
      "- model.encoder.value_embedding.value_projection.weight: found shape torch.Size([64, 22]) in the checkpoint and torch.Size([64, 5]) in the model instantiated\n",
      "- model.encoder.embed_positions.weight: found shape torch.Size([48, 64]) in the checkpoint and torch.Size([25, 64]) in the model instantiated\n",
      "- model.decoder.value_embedding.value_projection.weight: found shape torch.Size([64, 22]) in the checkpoint and torch.Size([64, 5]) in the model instantiated\n",
      "- model.decoder.embed_positions.weight: found shape torch.Size([48, 64]) in the checkpoint and torch.Size([25, 64]) in the model instantiated\n",
      "- model.decoder.layers.0.trend_projection.weight: found shape torch.Size([22, 64, 3]) in the checkpoint and torch.Size([5, 64, 3]) in the model instantiated\n",
      "- model.decoder.layers.1.trend_projection.weight: found shape torch.Size([22, 64, 3]) in the checkpoint and torch.Size([5, 64, 3]) in the model instantiated\n",
      "- model.decoder.layers.2.trend_projection.weight: found shape torch.Size([22, 64, 3]) in the checkpoint and torch.Size([5, 64, 3]) in the model instantiated\n",
      "- model.decoder.layers.3.trend_projection.weight: found shape torch.Size([22, 64, 3]) in the checkpoint and torch.Size([5, 64, 3]) in the model instantiated\n",
      "- model.decoder.seasonality_projection.weight: found shape torch.Size([22, 64]) in the checkpoint and torch.Size([5, 64]) in the model instantiated\n",
      "- model.decoder.seasonality_projection.bias: found shape torch.Size([22]) in the checkpoint and torch.Size([5]) in the model instantiated\n",
      "- parameter_projection.proj.0.weight: found shape torch.Size([1, 22]) in the checkpoint and torch.Size([1, 5]) in the model instantiated\n",
      "- parameter_projection.proj.1.weight: found shape torch.Size([1, 22]) in the checkpoint and torch.Size([1, 5]) in the model instantiated\n",
      "- parameter_projection.proj.2.weight: found shape torch.Size([1, 22]) in the checkpoint and torch.Size([1, 5]) in the model instantiated\n",
      "You should probably TRAIN this model on a down-stream task to be able to use it for predictions and inference.\n"
     ]
    },
    {
     "data": {
      "application/vnd.jupyter.widget-view+json": {
       "model_id": "8f66d088ed1e4527b3a4a03cf103c498",
       "version_major": 2,
       "version_minor": 0
      },
      "text/plain": [
       "  0%|          | 0/60 [00:00<?, ?it/s]"
      ]
     },
     "metadata": {},
     "output_type": "display_data"
    },
    {
     "name": "stdout",
     "output_type": "stream",
     "text": [
      "{'train_runtime': 13.4462, 'train_samples_per_second': 130.892, 'train_steps_per_second': 4.462, 'train_loss': 7.208004760742187, 'epoch': 20.0}\n"
     ]
    }
   ],
   "source": [
    "from sktime.forecasting.hf_transformers_forecaster import HFTransformersForecaster\n",
    "\n",
    "forecaster = HFTransformersForecaster(\n",
    "    model_path = \"huggingface/autoformer-tourism-monthly\",\n",
    "    fit_strategy = \"minimal\",\n",
    "    training_args = {\n",
    "        \"num_train_epochs\": 20,\n",
    "        \"output_dir\": \"test_output\",\n",
    "        \"per_device_train_batch_size\": 32,\n",
    "        \"report_to\": \"none\",\n",
    "    },\n",
    "    config = {\n",
    "        \"lags_sequence\": [1, 2, 3],\n",
    "        \"context_length\": 8,\n",
    "        \"prediction_length\": pred_len,\n",
    "        \"use_cpu\": True,\n",
    "        \"label_length\": 8,\n",
    "    },\n",
    "    deterministic = True,\n",
    ")\n",
    "forecaster.fit(y, fh=list(range(1, pred_len+1)))\n",
    "y_pred = forecaster.predict()"
   ]
  },
  {
   "cell_type": "code",
   "execution_count": 24,
   "metadata": {},
   "outputs": [
    {
     "data": {
      "text/plain": [
       "(<Figure size 1600x400 with 1 Axes>,\n",
       " <Axes: ylabel='Number of airline passengers'>)"
      ]
     },
     "execution_count": 24,
     "metadata": {},
     "output_type": "execute_result"
    },
    {
     "data": {
      "image/png": "[encoded data removed]",
      "text/plain": [
       "<Figure size 1600x400 with 1 Axes>"
      ]
     },
     "metadata": {},
     "output_type": "display_data"
    }
   ],
   "source": [
    "plot_series(y, y_pred)"
   ]
  },
  {
   "cell_type": "markdown",
   "metadata": {},
   "source": [
    "#### TinyTimeMixer"
   ]
  },
  {
   "cell_type": "markdown",
   "metadata": {},
   "source": [
    "A lightweight model for time series forecasting, designed to be computationally efficient while maintaining strong predictive performance. It uses a mixing architecture to combine different time-series features."
   ]
  },
  {
   "cell_type": "code",
   "execution_count": 25,
   "metadata": {},
   "outputs": [
    {
     "name": "stderr",
     "output_type": "stream",
     "text": [
      "Some weights of TinyTimeMixerForPrediction were not initialized from the model checkpoint at ibm/TTM and are newly initialized because the shapes did not match:\n",
      "- backbone.encoder.mlp_mixer_encoder.mixers.0.mixer_layers.0.patch_mixer.gating_block.attn_layer.bias: found shape torch.Size([32]) in the checkpoint and torch.Size([40]) in the model instantiated\n",
      "- backbone.encoder.mlp_mixer_encoder.mixers.0.mixer_layers.0.patch_mixer.gating_block.attn_layer.weight: found shape torch.Size([32, 32]) in the checkpoint and torch.Size([40, 40]) in the model instantiated\n",
      "- backbone.encoder.mlp_mixer_encoder.mixers.0.mixer_layers.0.patch_mixer.mlp.fc1.bias: found shape torch.Size([64]) in the checkpoint and torch.Size([80]) in the model instantiated\n",
      "- backbone.encoder.mlp_mixer_encoder.mixers.0.mixer_layers.0.patch_mixer.mlp.fc1.weight: found shape torch.Size([64, 32]) in the checkpoint and torch.Size([80, 40]) in the model instantiated\n",
      "- backbone.encoder.mlp_mixer_encoder.mixers.0.mixer_layers.0.patch_mixer.mlp.fc2.bias: found shape torch.Size([32]) in the checkpoint and torch.Size([40]) in the model instantiated\n",
      "- backbone.encoder.mlp_mixer_encoder.mixers.0.mixer_layers.0.patch_mixer.mlp.fc2.weight: found shape torch.Size([32, 64]) in the checkpoint and torch.Size([40, 80]) in the model instantiated\n",
      "- backbone.encoder.mlp_mixer_encoder.mixers.0.mixer_layers.1.patch_mixer.gating_block.attn_layer.bias: found shape torch.Size([32]) in the checkpoint and torch.Size([40]) in the model instantiated\n",
      "- backbone.encoder.mlp_mixer_encoder.mixers.0.mixer_layers.1.patch_mixer.gating_block.attn_layer.weight: found shape torch.Size([32, 32]) in the checkpoint and torch.Size([40, 40]) in the model instantiated\n",
      "- backbone.encoder.mlp_mixer_encoder.mixers.0.mixer_layers.1.patch_mixer.mlp.fc1.bias: found shape torch.Size([64]) in the checkpoint and torch.Size([80]) in the model instantiated\n",
      "- backbone.encoder.mlp_mixer_encoder.mixers.0.mixer_layers.1.patch_mixer.mlp.fc1.weight: found shape torch.Size([64, 32]) in the checkpoint and torch.Size([80, 40]) in the model instantiated\n",
      "- backbone.encoder.mlp_mixer_encoder.mixers.0.mixer_layers.1.patch_mixer.mlp.fc2.bias: found shape torch.Size([32]) in the checkpoint and torch.Size([40]) in the model instantiated\n",
      "- backbone.encoder.mlp_mixer_encoder.mixers.0.mixer_layers.1.patch_mixer.mlp.fc2.weight: found shape torch.Size([32, 64]) in the checkpoint and torch.Size([40, 80]) in the model instantiated\n",
      "- backbone.encoder.mlp_mixer_encoder.mixers.1.mixer_layers.0.patch_mixer.gating_block.attn_layer.bias: found shape torch.Size([16]) in the checkpoint and torch.Size([20]) in the model instantiated\n",
      "- backbone.encoder.mlp_mixer_encoder.mixers.1.mixer_layers.0.patch_mixer.gating_block.attn_layer.weight: found shape torch.Size([16, 16]) in the checkpoint and torch.Size([20, 20]) in the model instantiated\n",
      "- backbone.encoder.mlp_mixer_encoder.mixers.1.mixer_layers.0.patch_mixer.mlp.fc1.bias: found shape torch.Size([32]) in the checkpoint and torch.Size([40]) in the model instantiated\n",
      "- backbone.encoder.mlp_mixer_encoder.mixers.1.mixer_layers.0.patch_mixer.mlp.fc1.weight: found shape torch.Size([32, 16]) in the checkpoint and torch.Size([40, 20]) in the model instantiated\n",
      "- backbone.encoder.mlp_mixer_encoder.mixers.1.mixer_layers.0.patch_mixer.mlp.fc2.bias: found shape torch.Size([16]) in the checkpoint and torch.Size([20]) in the model instantiated\n",
      "- backbone.encoder.mlp_mixer_encoder.mixers.1.mixer_layers.0.patch_mixer.mlp.fc2.weight: found shape torch.Size([16, 32]) in the checkpoint and torch.Size([20, 40]) in the model instantiated\n",
      "- backbone.encoder.mlp_mixer_encoder.mixers.1.mixer_layers.1.patch_mixer.gating_block.attn_layer.bias: found shape torch.Size([16]) in the checkpoint and torch.Size([20]) in the model instantiated\n",
      "- backbone.encoder.mlp_mixer_encoder.mixers.1.mixer_layers.1.patch_mixer.gating_block.attn_layer.weight: found shape torch.Size([16, 16]) in the checkpoint and torch.Size([20, 20]) in the model instantiated\n",
      "- backbone.encoder.mlp_mixer_encoder.mixers.1.mixer_layers.1.patch_mixer.mlp.fc1.bias: found shape torch.Size([32]) in the checkpoint and torch.Size([40]) in the model instantiated\n",
      "- backbone.encoder.mlp_mixer_encoder.mixers.1.mixer_layers.1.patch_mixer.mlp.fc1.weight: found shape torch.Size([32, 16]) in the checkpoint and torch.Size([40, 20]) in the model instantiated\n",
      "- backbone.encoder.mlp_mixer_encoder.mixers.1.mixer_layers.1.patch_mixer.mlp.fc2.bias: found shape torch.Size([16]) in the checkpoint and torch.Size([20]) in the model instantiated\n",
      "- backbone.encoder.mlp_mixer_encoder.mixers.1.mixer_layers.1.patch_mixer.mlp.fc2.weight: found shape torch.Size([16, 32]) in the checkpoint and torch.Size([20, 40]) in the model instantiated\n",
      "- backbone.encoder.mlp_mixer_encoder.mixers.2.mixer_layers.0.patch_mixer.gating_block.attn_layer.bias: found shape torch.Size([8]) in the checkpoint and torch.Size([10]) in the model instantiated\n",
      "- backbone.encoder.mlp_mixer_encoder.mixers.2.mixer_layers.0.patch_mixer.gating_block.attn_layer.weight: found shape torch.Size([8, 8]) in the checkpoint and torch.Size([10, 10]) in the model instantiated\n",
      "- backbone.encoder.mlp_mixer_encoder.mixers.2.mixer_layers.0.patch_mixer.mlp.fc1.bias: found shape torch.Size([16]) in the checkpoint and torch.Size([20]) in the model instantiated\n",
      "- backbone.encoder.mlp_mixer_encoder.mixers.2.mixer_layers.0.patch_mixer.mlp.fc1.weight: found shape torch.Size([16, 8]) in the checkpoint and torch.Size([20, 10]) in the model instantiated\n",
      "- backbone.encoder.mlp_mixer_encoder.mixers.2.mixer_layers.0.patch_mixer.mlp.fc2.bias: found shape torch.Size([8]) in the checkpoint and torch.Size([10]) in the model instantiated\n",
      "- backbone.encoder.mlp_mixer_encoder.mixers.2.mixer_layers.0.patch_mixer.mlp.fc2.weight: found shape torch.Size([8, 16]) in the checkpoint and torch.Size([10, 20]) in the model instantiated\n",
      "- backbone.encoder.mlp_mixer_encoder.mixers.2.mixer_layers.1.patch_mixer.gating_block.attn_layer.bias: found shape torch.Size([8]) in the checkpoint and torch.Size([10]) in the model instantiated\n",
      "- backbone.encoder.mlp_mixer_encoder.mixers.2.mixer_layers.1.patch_mixer.gating_block.attn_layer.weight: found shape torch.Size([8, 8]) in the checkpoint and torch.Size([10, 10]) in the model instantiated\n",
      "- backbone.encoder.mlp_mixer_encoder.mixers.2.mixer_layers.1.patch_mixer.mlp.fc1.bias: found shape torch.Size([16]) in the checkpoint and torch.Size([20]) in the model instantiated\n",
      "- backbone.encoder.mlp_mixer_encoder.mixers.2.mixer_layers.1.patch_mixer.mlp.fc1.weight: found shape torch.Size([16, 8]) in the checkpoint and torch.Size([20, 10]) in the model instantiated\n",
      "- backbone.encoder.mlp_mixer_encoder.mixers.2.mixer_layers.1.patch_mixer.mlp.fc2.bias: found shape torch.Size([8]) in the checkpoint and torch.Size([10]) in the model instantiated\n",
      "- backbone.encoder.mlp_mixer_encoder.mixers.2.mixer_layers.1.patch_mixer.mlp.fc2.weight: found shape torch.Size([8, 16]) in the checkpoint and torch.Size([10, 20]) in the model instantiated\n",
      "- backbone.encoder.patcher.weight: found shape torch.Size([192, 64]) in the checkpoint and torch.Size([192, 2]) in the model instantiated\n",
      "- decoder.decoder_block.mixers.0.patch_mixer.gating_block.attn_layer.bias: found shape torch.Size([8]) in the checkpoint and torch.Size([10]) in the model instantiated\n",
      "- decoder.decoder_block.mixers.0.patch_mixer.gating_block.attn_layer.weight: found shape torch.Size([8, 8]) in the checkpoint and torch.Size([10, 10]) in the model instantiated\n",
      "- decoder.decoder_block.mixers.0.patch_mixer.mlp.fc1.bias: found shape torch.Size([16]) in the checkpoint and torch.Size([20]) in the model instantiated\n",
      "- decoder.decoder_block.mixers.0.patch_mixer.mlp.fc1.weight: found shape torch.Size([16, 8]) in the checkpoint and torch.Size([20, 10]) in the model instantiated\n",
      "- decoder.decoder_block.mixers.0.patch_mixer.mlp.fc2.bias: found shape torch.Size([8]) in the checkpoint and torch.Size([10]) in the model instantiated\n",
      "- decoder.decoder_block.mixers.0.patch_mixer.mlp.fc2.weight: found shape torch.Size([8, 16]) in the checkpoint and torch.Size([10, 20]) in the model instantiated\n",
      "- decoder.decoder_block.mixers.1.patch_mixer.gating_block.attn_layer.bias: found shape torch.Size([8]) in the checkpoint and torch.Size([10]) in the model instantiated\n",
      "- decoder.decoder_block.mixers.1.patch_mixer.gating_block.attn_layer.weight: found shape torch.Size([8, 8]) in the checkpoint and torch.Size([10, 10]) in the model instantiated\n",
      "- decoder.decoder_block.mixers.1.patch_mixer.mlp.fc1.bias: found shape torch.Size([16]) in the checkpoint and torch.Size([20]) in the model instantiated\n",
      "- decoder.decoder_block.mixers.1.patch_mixer.mlp.fc1.weight: found shape torch.Size([16, 8]) in the checkpoint and torch.Size([20, 10]) in the model instantiated\n",
      "- decoder.decoder_block.mixers.1.patch_mixer.mlp.fc2.bias: found shape torch.Size([8]) in the checkpoint and torch.Size([10]) in the model instantiated\n",
      "- decoder.decoder_block.mixers.1.patch_mixer.mlp.fc2.weight: found shape torch.Size([8, 16]) in the checkpoint and torch.Size([10, 20]) in the model instantiated\n",
      "- head.base_forecast_block.bias: found shape torch.Size([96]) in the checkpoint and torch.Size([16]) in the model instantiated\n",
      "- head.base_forecast_block.weight: found shape torch.Size([96, 1024]) in the checkpoint and torch.Size([16, 1280]) in the model instantiated\n",
      "You should probably TRAIN this model on a down-stream task to be able to use it for predictions and inference.\n"
     ]
    },
    {
     "data": {
      "application/vnd.jupyter.widget-view+json": {
       "model_id": "cd62e2cf19604ab6a7df42179ffb5daa",
       "version_major": 2,
       "version_minor": 0
      },
      "text/plain": [
       "  0%|          | 0/300 [00:00<?, ?it/s]"
      ]
     },
     "metadata": {},
     "output_type": "display_data"
    },
    {
     "name": "stdout",
     "output_type": "stream",
     "text": [
      "{'train_runtime': 28.7607, 'train_samples_per_second': 278.158, 'train_steps_per_second': 10.431, 'train_loss': 162.78544270833333, 'epoch': 100.0}\n"
     ]
    }
   ],
   "source": [
    "from sktime.forecasting.ttm import TinyTimeMixerForecaster\n",
    "from sktime.datasets import load_airline\n",
    "\n",
    "y = load_airline()\n",
    "\n",
    "forecaster = TinyTimeMixerForecaster(\n",
    "    config={\n",
    "        \"context_length\": 20,\n",
    "        \"prediction_length\": 10,\n",
    "    },\n",
    "    training_args={\n",
    "        \"num_train_epochs\": 100,\n",
    "        \"output_dir\": \"test_output\",\n",
    "        \"per_device_train_batch_size\": 32,\n",
    "        \"report_to\": \"none\",\n",
    "        \"learning_rate\": 1e-2,\n",
    "    },\n",
    ")\n",
    "forecaster.fit(y, fh=list(range(1, pred_len+1)))\n",
    "y_pred = forecaster.predict()"
   ]
  },
  {
   "cell_type": "code",
   "execution_count": 26,
   "metadata": {},
   "outputs": [
    {
     "data": {
      "text/plain": [
       "(<Figure size 1600x400 with 1 Axes>,\n",
       " <Axes: ylabel='Number of airline passengers'>)"
      ]
     },
     "execution_count": 26,
     "metadata": {},
     "output_type": "execute_result"
    },
    {
     "data": {
      "image/png": "[encoded data removed]",
      "text/plain": [
       "<Figure size 1600x400 with 1 Axes>"
      ]
     },
     "metadata": {},
     "output_type": "display_data"
    }
   ],
   "source": [
    "plot_series(y, y_pred)"
   ]
  },
  {
   "cell_type": "markdown",
   "metadata": {},
   "source": [
    "#### PEFT Models"
   ]
  },
  {
   "cell_type": "markdown",
   "metadata": {},
   "source": [
    "`HFTransformersForecaster` supports Parameter-Efficient Fine-Tuning (PEFT) methods.\n",
    " training, but we are developing a unified interface to apply peft on deep learning foundation models\n",
    "\n",
    "To follow or participate in the discussion, refer to the relevant issue: [#6968](https://github.com/sktime/sktime/issues/6968)"
   ]
  },
  {
   "cell_type": "code",
   "execution_count": 27,
   "metadata": {},
   "outputs": [],
   "source": [
    "# Make sure you have peft library installed\n",
    "# !pip install peft"
   ]
  },
  {
   "cell_type": "code",
   "execution_count": 28,
   "metadata": {},
   "outputs": [
    {
     "name": "stderr",
     "output_type": "stream",
     "text": [
      "Some weights of the model checkpoint at huggingface/informer-tourism-monthly were not used when initializing InformerForPrediction: ['model.embedder.embedders.0.weight']\n",
      "- This IS expected if you are initializing InformerForPrediction from the checkpoint of a model trained on another task or with another architecture (e.g. initializing a BertForSequenceClassification model from a BertForPreTraining model).\n",
      "- This IS NOT expected if you are initializing InformerForPrediction from the checkpoint of a model that you expect to be exactly identical (initializing a BertForSequenceClassification model from a BertForSequenceClassification model).\n",
      "Some weights of InformerForPrediction were not initialized from the model checkpoint at huggingface/informer-tourism-monthly and are newly initialized because the shapes did not match:\n",
      "- model.encoder.value_embedding.value_projection.weight: found shape torch.Size([32, 22]) in the checkpoint and torch.Size([32, 5]) in the model instantiated\n",
      "- model.encoder.embed_positions.weight: found shape torch.Size([48, 32]) in the checkpoint and torch.Size([25, 32]) in the model instantiated\n",
      "- model.decoder.value_embedding.value_projection.weight: found shape torch.Size([32, 22]) in the checkpoint and torch.Size([32, 5]) in the model instantiated\n",
      "- model.decoder.embed_positions.weight: found shape torch.Size([48, 32]) in the checkpoint and torch.Size([25, 32]) in the model instantiated\n",
      "You should probably TRAIN this model on a down-stream task to be able to use it for predictions and inference.\n"
     ]
    },
    {
     "data": {
      "application/vnd.jupyter.widget-view+json": {
       "model_id": "f606955273504945b1560122a8053f83",
       "version_major": 2,
       "version_minor": 0
      },
      "text/plain": [
       "  0%|          | 0/300 [00:00<?, ?it/s]"
      ]
     },
     "metadata": {},
     "output_type": "display_data"
    },
    {
     "name": "stdout",
     "output_type": "stream",
     "text": [
      "{'train_runtime': 21.2108, 'train_samples_per_second': 414.883, 'train_steps_per_second': 14.144, 'train_loss': 6.503758138020833, 'epoch': 100.0}\n"
     ]
    }
   ],
   "source": [
    "from sktime.forecasting.hf_transformers_forecaster import HFTransformersForecaster\n",
    "from peft import LoraConfig\n",
    "\n",
    "forecaster = HFTransformersForecaster(\n",
    "    model_path = \"huggingface/informer-tourism-monthly\",\n",
    "    fit_strategy = \"minimal\",\n",
    "    training_args = {\n",
    "        \"num_train_epochs\": 100,\n",
    "        \"output_dir\": \"test_output\",\n",
    "        \"per_device_train_batch_size\": 32,\n",
    "        \"report_to\": \"none\",\n",
    "    },\n",
    "    config = {\n",
    "        \"lags_sequence\": [1, 2, 3],\n",
    "        \"context_length\": 8,\n",
    "        \"prediction_length\": pred_len,\n",
    "        \"use_cpu\": True,\n",
    "        \"label_length\": 8,\n",
    "    },\n",
    "    deterministic = True,\n",
    "    peft_config=LoraConfig(\n",
    "        r=8,\n",
    "        lora_alpha=32,\n",
    "        target_modules=[\"q_proj\", \"v_proj\"],\n",
    "        lora_dropout=0.01,\n",
    "    )\n",
    ")\n",
    "forecaster.fit(y, fh=list(range(1, pred_len+1)))\n",
    "y_pred = forecaster.predict()"
   ]
  },
  {
   "cell_type": "code",
   "execution_count": 29,
   "metadata": {},
   "outputs": [
    {
     "data": {
      "text/plain": [
       "(<Figure size 1600x400 with 1 Axes>,\n",
       " <Axes: ylabel='Number of airline passengers'>)"
      ]
     },
     "execution_count": 29,
     "metadata": {},
     "output_type": "execute_result"
    },
    {
     "data": {
      "image/png": "[encoded data removed]",
      "text/plain": [
       "<Figure size 1600x400 with 1 Axes>"
      ]
     },
     "metadata": {},
     "output_type": "display_data"
    }
   ],
   "source": [
    "plot_series(y, y_pred)"
   ]
  },
  {
   "cell_type": "markdown",
   "metadata": {},
   "source": [
    "More Foundation Models to come in future - [#6177](https://github.com/sktime/sktime/issues/6177)\n",
    "\n",
    "Here are a few models in progress \n",
    "| Foundation Model  | Pull Request                                    | Contributor                  |\n",
    "|-------------------|-------------------------------------------------|------------------------------|\n",
    "| Amazon Chronos    | [PR #6665](https://github.com/sktime/sktime/pull/6665) | [Z-Fran](https://github.com/Z-Fran)         |\n",
    "| LagLlama          | [PR #6659](https://github.com/sktime/sktime/pull/6659) | [shlok191](https://github.com/shlok191)     |\n",
    "| MOIRAI            | [PR #6299](https://github.com/sktime/sktime/pull/6299) | [pranavvp16](https://github.com/pranavvp16) |\n",
    "| TimesFM           | [PR #6571](https://github.com/sktime/sktime/pull/6571) | [geetu040](https://github.com/geetu040)     |\n",
    "| MomentFM          | [PR #6570](https://github.com/sktime/sktime/pull/6570) | [julian-fong](https://github.com/julian-fong) |\n"
   ]
  },
  {
   "cell_type": "markdown",
   "metadata": {},
   "source": [
    "### Training"
   ]
  },
  {
   "cell_type": "markdown",
   "metadata": {},
   "source": [
    "Foundation models in sktime can internally perform zero-shot forecasting or be fine-tuned based on how, and with what arguments they are initialized."
   ]
  },
  {
   "cell_type": "markdown",
   "metadata": {},
   "source": [
    "The model is initialized with weights downloaded and cached from the specified `model_path` on Hugging Face. Depending on the model's configuration, additional steps may occur:\n",
    "\n",
    "* **Additional Weights**: Added if the model requires extra layers, such as a classification head, for a downstream task.\n",
    "* **Re-initialized Weights**: Occur when the model's configuration differs from the default available on Hugging Face.\n",
    "\n",
    "As a result, the model may contain a mix of original and newly initialized weights. You can choose from the following training options:\n",
    "\n",
    "* **Fine-tuning / Full-training**: Train all the model's weights.\n",
    "* **PEFT Training**: Train a small subset of weights, determined by the PEFT method and configuration.\n",
    "* **Minimal Training**: Train only the newly initialized weights. If there are no newly initialized weights, there is no training and thus performs zero-shot forecasting.\n",
    "\n",
    "The availability of these training options through the estimator's interface, either via parameters or inferred internally, depends on the estimator and is documented in the docstring.\n",
    "* **HFTransformersForecaster:** support all 3 training scenarios\n",
    "* **TinyTimeMixer:** supports only minimal training\n"
   ]
  },
  {
   "cell_type": "markdown",
   "metadata": {},
   "source": [
    "### License Management"
   ]
  },
  {
   "cell_type": "markdown",
   "metadata": {},
   "source": [
    "**Foundation Model Artifacts**\n",
    "\n",
    "- defined model architechture\n",
    "- pre-trained weights"
   ]
  },
  {
   "cell_type": "markdown",
   "metadata": {},
   "source": [
    "caveat: different parts may come with different license!\n",
    "\n",
    "* `sktime` framework layer always permissinve - BSD-3 clause\n",
    "* weights - inspect huggingface tag or original release; also check docstring\n",
    "* model code - `license_type` tag in `sktime` if populated; docstring"
   ]
  },
  {
   "cell_type": "markdown",
   "metadata": {},
   "source": [
    "<img src=\"./img/fm-license.png\" alt=\"Foundation Model Overview\" style=\"width: 100%; max-width: 600px;\">"
   ]
  },
  {
   "cell_type": "markdown",
   "metadata": {},
   "source": [
    "Example: silent change in MOIRAI foundation model weights license from permissive to non-commercial.\n",
    "\n",
    "Auto-upgrade to newest commit without version bounds creates a license violation in commercial deployment!"
   ]
  },
  {
   "cell_type": "markdown",
   "metadata": {},
   "source": [
    "**Sktime Vendor Fork**\n",
    "\n",
    "sktime may fork some code from the official source because of\n",
    "* dependency issues\n",
    "* unavailability on pypi\n",
    "* license change\n",
    "\n",
    "This forked code goes into [`sktime/libs`](TODO), and the license attached with the official code is kept as is in the fork\n",
    "\n",
    "Source installation can be selected via `use_source_package` parameter"
   ]
  },
  {
   "cell_type": "markdown",
   "metadata": {},
   "source": [
    "**License information given by `sktime` includes third-party license tags,\n",
    "provided as-is without any warranties or liability.**\n",
    "\n",
    "**Users are responsible for ensuring compliance with applicable licenses\n",
    "and verifying the accuracy of the license information.**"
   ]
  },
  {
   "cell_type": "markdown",
   "metadata": {},
   "source": [
    "### Foundation Models for Global Forecasting\n",
    "\n",
    "Intuitively Foundation Models can perform Global Forecasting\n",
    "\n",
    "Currently, `TinyTimeMixerForecaster` is the only foundation model that supports global forecasting\n",
    "\n",
    "We are expecting to extend more existing foundation models with global forecasting capablity.\n",
    "\n",
    "To see the wishlist on make forecasters global, you can follow the discussion here - [#6836](https://github.com/sktime/sktime/issues/6836)"
   ]
  },
  {
   "cell_type": "markdown",
   "metadata": {},
   "source": [
    "## Summary"
   ]
  },
  {
   "cell_type": "markdown",
   "metadata": {},
   "source": [
    "\n",
    "**Global Forecasting**\n",
    "\n",
    "* Involves training models on multiple time series to make forecasts on new series.\n",
    "* Demonstrated with SKU volume prediction using sktime, both with and without exogenous data.\n",
    "\n",
    "**Foundation Models**\n",
    "\n",
    "* Large, pre-trained deep learning models designed for versatility across various tasks.\n",
    "* Showcased models: Informer, Autoformer, and TinyTimeMixer.\n",
    "* Training Approaches like fine-tuning, minimal training, and PEFT methods.\n",
    "* License Management with foundation models.\n",
    "* Foundation Models and Global Forecasting"
   ]
  },
  {
   "cell_type": "markdown",
   "metadata": {},
   "source": [
    "---\n",
    "## Credits: notebook 3 - `global forecasting`\n",
    "\n",
    "notebook creation: xinyu, geetu, fkiraly, felipe\n",
    "\n",
    "global forecasting interface: xinyu\n",
    "\n",
    "General credit also to `sklearn` and `sktime` contributors"
   ]
  }
 ],
 "metadata": {
  "kernelspec": {
   "display_name": "sktime_310",
   "language": "python",
   "name": "python3"
  },
  "language_info": {
   "codemirror_mode": {
    "name": "ipython",
    "version": 3
   },
   "file_extension": ".py",
   "mimetype": "text/x-python",
   "name": "python",
   "nbconvert_exporter": "python",
   "pygments_lexer": "ipython3",
   "version": "3.10.14"
  }
 },
 "nbformat": 4,
 "nbformat_minor": 2
}
